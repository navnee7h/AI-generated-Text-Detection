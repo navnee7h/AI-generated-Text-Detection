{
  "nbformat": 4,
  "nbformat_minor": 0,
  "metadata": {
    "colab": {
      "provenance": [],
      "toc_visible": true,
      "authorship_tag": "ABX9TyNwe1VlbNe4eaNwKpoz3aHr",
      "include_colab_link": true
    },
    "kernelspec": {
      "name": "python3",
      "display_name": "Python 3"
    },
    "language_info": {
      "name": "python"
    }
  },
  "cells": [
    {
      "cell_type": "markdown",
      "metadata": {
        "id": "view-in-github",
        "colab_type": "text"
      },
      "source": [
        "<a href=\"https://colab.research.google.com/github/navnee7h/AI-generated-Text-Detection/blob/LSVM-Model/AI_detector_LSVM_model.ipynb\" target=\"_parent\"><img src=\"https://colab.research.google.com/assets/colab-badge.svg\" alt=\"Open In Colab\"/></a>"
      ]
    },
    {
      "cell_type": "markdown",
      "source": [
        "# **🔘AI Generated text detection ML model**"
      ],
      "metadata": {
        "id": "GfUrlXa0cZ0L"
      }
    },
    {
      "cell_type": "markdown",
      "source": [
        "## **🔗Linking  google drive to google colab**"
      ],
      "metadata": {
        "id": "QpGynOBAfvpG"
      }
    },
    {
      "cell_type": "code",
      "source": [
        "from google.colab import drive\n",
        "drive.mount('/content/drive')"
      ],
      "metadata": {
        "id": "ZQcWwKYggMDg",
        "colab": {
          "base_uri": "https://localhost:8080/"
        },
        "outputId": "12daeb65-0a03-417e-ba96-80e060c56b9a"
      },
      "execution_count": 49,
      "outputs": [
        {
          "output_type": "stream",
          "name": "stdout",
          "text": [
            "Drive already mounted at /content/drive; to attempt to forcibly remount, call drive.mount(\"/content/drive\", force_remount=True).\n"
          ]
        }
      ]
    },
    {
      "cell_type": "code",
      "source": [
        "!pwd"
      ],
      "metadata": {
        "id": "9c-YJ6HQggPD",
        "colab": {
          "base_uri": "https://localhost:8080/"
        },
        "outputId": "307f28fc-4b18-43fc-cc4f-6ca19cb6664a"
      },
      "execution_count": 50,
      "outputs": [
        {
          "output_type": "stream",
          "name": "stdout",
          "text": [
            "/content\n"
          ]
        }
      ]
    },
    {
      "cell_type": "markdown",
      "source": [
        "# **Load data**"
      ],
      "metadata": {
        "id": "eP9xGQjmcm5_"
      }
    },
    {
      "cell_type": "code",
      "source": [
        "import pandas as pd\n",
        "df = pd.read_csv(\"drive/My Drive/GPT-wiki-intro.csv\")\n",
        "df"
      ],
      "metadata": {
        "id": "BU54Era6dzkl",
        "colab": {
          "base_uri": "https://localhost:8080/",
          "height": 1000
        },
        "outputId": "f109599c-3ca1-4ae0-92aa-b103f2c53016"
      },
      "execution_count": 51,
      "outputs": [
        {
          "output_type": "execute_result",
          "data": {
            "text/plain": [
              "              id                                                url  \\\n",
              "0       63064638  https://en.wikipedia.org/wiki/Sexhow%20railway...   \n",
              "1         279621        https://en.wikipedia.org/wiki/Eti%C3%A4inen   \n",
              "2         287229  https://en.wikipedia.org/wiki/Inverse%20functi...   \n",
              "3       26712375  https://en.wikipedia.org/wiki/Stepping%20on%20...   \n",
              "4       38894426        https://en.wikipedia.org/wiki/Rob%20Bradley   \n",
              "...          ...                                                ...   \n",
              "149995  44173767        https://en.wikipedia.org/wiki/Randy%20Borum   \n",
              "149996  33564134  https://en.wikipedia.org/wiki/Sa%27och%20language   \n",
              "149997   4219548    https://en.wikipedia.org/wiki/Philip%20Hanawalt   \n",
              "149998   2625970  https://en.wikipedia.org/wiki/Vossius%20Gymnasium   \n",
              "149999  32345102    https://en.wikipedia.org/wiki/Simone%20Stratigo   \n",
              "\n",
              "                           title  \\\n",
              "0         Sexhow railway station   \n",
              "1                       Etiäinen   \n",
              "2       Inverse function theorem   \n",
              "3              Stepping on Roses   \n",
              "4                    Rob Bradley   \n",
              "...                          ...   \n",
              "149995               Randy Borum   \n",
              "149996           Sa'och language   \n",
              "149997           Philip Hanawalt   \n",
              "149998         Vossius Gymnasium   \n",
              "149999           Simone Stratigo   \n",
              "\n",
              "                                               wiki_intro  \\\n",
              "0       Sexhow railway station was a railway station b...   \n",
              "1       In Finnish folklore, all places and things, an...   \n",
              "2       In mathematics, specifically differential calc...   \n",
              "3       is a Japanese shōjo manga series written and i...   \n",
              "4       Robert Milner \"Rob\" Bradley, Jr. (born August ...   \n",
              "...                                                   ...   \n",
              "149995  Randy Borum is a Professor and Coordinator of ...   \n",
              "149996  Sa'och (, also, \"Sauch\") is an endangered, nea...   \n",
              "149997  Philip C. Hanawalt (born 1931) is an American ...   \n",
              "149998  Vossius Gymnasium is a public gymnasium in Ams...   \n",
              "149999  Simone Stratigo (, Symeon Filippos Stratigos; ...   \n",
              "\n",
              "                                          generated_intro  title_len  \\\n",
              "0       Sexhow railway station was a railway station l...          3   \n",
              "1       In Finnish folklore, all places and things, an...          1   \n",
              "2       In mathematics, specifically differential calc...          3   \n",
              "3       is a Japanese shōjo manga series written and i...          3   \n",
              "4       Robert Milner \"Rob\" Bradley, Jr. (born August ...          2   \n",
              "...                                                   ...        ...   \n",
              "149995  Randy Borum is a Professor and Coordinator of ...          2   \n",
              "149996  Sa'och (, also, \"Sauch\") is an endangered, nuc...          2   \n",
              "149997  Philip C. Hanawalt (born 1931) is an American ...          2   \n",
              "149998  Vossius Gymnasium is a public gymnasium in the...          2   \n",
              "149999  Simone Stratigo (, Symeon Filippos Stratigos; ...          2   \n",
              "\n",
              "        wiki_intro_len  generated_intro_len  \\\n",
              "0                  174                   78   \n",
              "1                  187                   80   \n",
              "2                  170                   59   \n",
              "3                  335                  121   \n",
              "4                  170                  136   \n",
              "...                ...                  ...   \n",
              "149995             185                   71   \n",
              "149996             175                  134   \n",
              "149997             166                  191   \n",
              "149998             168                  108   \n",
              "149999             153                  132   \n",
              "\n",
              "                                                   prompt  \\\n",
              "0       200 word wikipedia style introduction on 'Sexh...   \n",
              "1       200 word wikipedia style introduction on 'Etiä...   \n",
              "2       200 word wikipedia style introduction on 'Inve...   \n",
              "3       200 word wikipedia style introduction on 'Step...   \n",
              "4       200 word wikipedia style introduction on 'Rob ...   \n",
              "...                                                   ...   \n",
              "149995  200 word wikipedia style introduction on 'Rand...   \n",
              "149996  200 word wikipedia style introduction on 'Sa'o...   \n",
              "149997  200 word wikipedia style introduction on 'Phil...   \n",
              "149998  200 word wikipedia style introduction on 'Voss...   \n",
              "149999  200 word wikipedia style introduction on 'Simo...   \n",
              "\n",
              "                                           generated_text  prompt_tokens  \\\n",
              "0        located in the town of Sexhow, on the Cumbria...             25   \n",
              "1        animate or inanimate, have a spirit or \"etiäi...             26   \n",
              "2        function theorem states that for every real-v...             26   \n",
              "3        and illustrated by Maki Fujii. The series fol...             26   \n",
              "4        29, 1973) is an American former professional ...             28   \n",
              "...                                                   ...            ...   \n",
              "149995   of the Master of Fine Arts Program in Creativ...             25   \n",
              "149996   nuclear-speaking, isolate language of the Ath...             33   \n",
              "149997   American graphic artist and illustrator. He i...             30   \n",
              "149998   the town of Vossius, Netherlands. It is named...             32   \n",
              "149999   born 1 July 1979) is a Greek professional foo...             33   \n",
              "\n",
              "        generated_text_tokens  \n",
              "0                          88  \n",
              "1                         101  \n",
              "2                          65  \n",
              "3                         150  \n",
              "4                         162  \n",
              "...                       ...  \n",
              "149995                     92  \n",
              "149996                    184  \n",
              "149997                    272  \n",
              "149998                    147  \n",
              "149999                    173  \n",
              "\n",
              "[150000 rows x 12 columns]"
            ],
            "text/html": [
              "\n",
              "  <div id=\"df-8089a801-d7a9-457e-8f8c-fb7d83645461\">\n",
              "    <div class=\"colab-df-container\">\n",
              "      <div>\n",
              "<style scoped>\n",
              "    .dataframe tbody tr th:only-of-type {\n",
              "        vertical-align: middle;\n",
              "    }\n",
              "\n",
              "    .dataframe tbody tr th {\n",
              "        vertical-align: top;\n",
              "    }\n",
              "\n",
              "    .dataframe thead th {\n",
              "        text-align: right;\n",
              "    }\n",
              "</style>\n",
              "<table border=\"1\" class=\"dataframe\">\n",
              "  <thead>\n",
              "    <tr style=\"text-align: right;\">\n",
              "      <th></th>\n",
              "      <th>id</th>\n",
              "      <th>url</th>\n",
              "      <th>title</th>\n",
              "      <th>wiki_intro</th>\n",
              "      <th>generated_intro</th>\n",
              "      <th>title_len</th>\n",
              "      <th>wiki_intro_len</th>\n",
              "      <th>generated_intro_len</th>\n",
              "      <th>prompt</th>\n",
              "      <th>generated_text</th>\n",
              "      <th>prompt_tokens</th>\n",
              "      <th>generated_text_tokens</th>\n",
              "    </tr>\n",
              "  </thead>\n",
              "  <tbody>\n",
              "    <tr>\n",
              "      <th>0</th>\n",
              "      <td>63064638</td>\n",
              "      <td>https://en.wikipedia.org/wiki/Sexhow%20railway...</td>\n",
              "      <td>Sexhow railway station</td>\n",
              "      <td>Sexhow railway station was a railway station b...</td>\n",
              "      <td>Sexhow railway station was a railway station l...</td>\n",
              "      <td>3</td>\n",
              "      <td>174</td>\n",
              "      <td>78</td>\n",
              "      <td>200 word wikipedia style introduction on 'Sexh...</td>\n",
              "      <td>located in the town of Sexhow, on the Cumbria...</td>\n",
              "      <td>25</td>\n",
              "      <td>88</td>\n",
              "    </tr>\n",
              "    <tr>\n",
              "      <th>1</th>\n",
              "      <td>279621</td>\n",
              "      <td>https://en.wikipedia.org/wiki/Eti%C3%A4inen</td>\n",
              "      <td>Etiäinen</td>\n",
              "      <td>In Finnish folklore, all places and things, an...</td>\n",
              "      <td>In Finnish folklore, all places and things, an...</td>\n",
              "      <td>1</td>\n",
              "      <td>187</td>\n",
              "      <td>80</td>\n",
              "      <td>200 word wikipedia style introduction on 'Etiä...</td>\n",
              "      <td>animate or inanimate, have a spirit or \"etiäi...</td>\n",
              "      <td>26</td>\n",
              "      <td>101</td>\n",
              "    </tr>\n",
              "    <tr>\n",
              "      <th>2</th>\n",
              "      <td>287229</td>\n",
              "      <td>https://en.wikipedia.org/wiki/Inverse%20functi...</td>\n",
              "      <td>Inverse function theorem</td>\n",
              "      <td>In mathematics, specifically differential calc...</td>\n",
              "      <td>In mathematics, specifically differential calc...</td>\n",
              "      <td>3</td>\n",
              "      <td>170</td>\n",
              "      <td>59</td>\n",
              "      <td>200 word wikipedia style introduction on 'Inve...</td>\n",
              "      <td>function theorem states that for every real-v...</td>\n",
              "      <td>26</td>\n",
              "      <td>65</td>\n",
              "    </tr>\n",
              "    <tr>\n",
              "      <th>3</th>\n",
              "      <td>26712375</td>\n",
              "      <td>https://en.wikipedia.org/wiki/Stepping%20on%20...</td>\n",
              "      <td>Stepping on Roses</td>\n",
              "      <td>is a Japanese shōjo manga series written and i...</td>\n",
              "      <td>is a Japanese shōjo manga series written and i...</td>\n",
              "      <td>3</td>\n",
              "      <td>335</td>\n",
              "      <td>121</td>\n",
              "      <td>200 word wikipedia style introduction on 'Step...</td>\n",
              "      <td>and illustrated by Maki Fujii. The series fol...</td>\n",
              "      <td>26</td>\n",
              "      <td>150</td>\n",
              "    </tr>\n",
              "    <tr>\n",
              "      <th>4</th>\n",
              "      <td>38894426</td>\n",
              "      <td>https://en.wikipedia.org/wiki/Rob%20Bradley</td>\n",
              "      <td>Rob Bradley</td>\n",
              "      <td>Robert Milner \"Rob\" Bradley, Jr. (born August ...</td>\n",
              "      <td>Robert Milner \"Rob\" Bradley, Jr. (born August ...</td>\n",
              "      <td>2</td>\n",
              "      <td>170</td>\n",
              "      <td>136</td>\n",
              "      <td>200 word wikipedia style introduction on 'Rob ...</td>\n",
              "      <td>29, 1973) is an American former professional ...</td>\n",
              "      <td>28</td>\n",
              "      <td>162</td>\n",
              "    </tr>\n",
              "    <tr>\n",
              "      <th>...</th>\n",
              "      <td>...</td>\n",
              "      <td>...</td>\n",
              "      <td>...</td>\n",
              "      <td>...</td>\n",
              "      <td>...</td>\n",
              "      <td>...</td>\n",
              "      <td>...</td>\n",
              "      <td>...</td>\n",
              "      <td>...</td>\n",
              "      <td>...</td>\n",
              "      <td>...</td>\n",
              "      <td>...</td>\n",
              "    </tr>\n",
              "    <tr>\n",
              "      <th>149995</th>\n",
              "      <td>44173767</td>\n",
              "      <td>https://en.wikipedia.org/wiki/Randy%20Borum</td>\n",
              "      <td>Randy Borum</td>\n",
              "      <td>Randy Borum is a Professor and Coordinator of ...</td>\n",
              "      <td>Randy Borum is a Professor and Coordinator of ...</td>\n",
              "      <td>2</td>\n",
              "      <td>185</td>\n",
              "      <td>71</td>\n",
              "      <td>200 word wikipedia style introduction on 'Rand...</td>\n",
              "      <td>of the Master of Fine Arts Program in Creativ...</td>\n",
              "      <td>25</td>\n",
              "      <td>92</td>\n",
              "    </tr>\n",
              "    <tr>\n",
              "      <th>149996</th>\n",
              "      <td>33564134</td>\n",
              "      <td>https://en.wikipedia.org/wiki/Sa%27och%20language</td>\n",
              "      <td>Sa'och language</td>\n",
              "      <td>Sa'och (, also, \"Sauch\") is an endangered, nea...</td>\n",
              "      <td>Sa'och (, also, \"Sauch\") is an endangered, nuc...</td>\n",
              "      <td>2</td>\n",
              "      <td>175</td>\n",
              "      <td>134</td>\n",
              "      <td>200 word wikipedia style introduction on 'Sa'o...</td>\n",
              "      <td>nuclear-speaking, isolate language of the Ath...</td>\n",
              "      <td>33</td>\n",
              "      <td>184</td>\n",
              "    </tr>\n",
              "    <tr>\n",
              "      <th>149997</th>\n",
              "      <td>4219548</td>\n",
              "      <td>https://en.wikipedia.org/wiki/Philip%20Hanawalt</td>\n",
              "      <td>Philip Hanawalt</td>\n",
              "      <td>Philip C. Hanawalt (born 1931) is an American ...</td>\n",
              "      <td>Philip C. Hanawalt (born 1931) is an American ...</td>\n",
              "      <td>2</td>\n",
              "      <td>166</td>\n",
              "      <td>191</td>\n",
              "      <td>200 word wikipedia style introduction on 'Phil...</td>\n",
              "      <td>American graphic artist and illustrator. He i...</td>\n",
              "      <td>30</td>\n",
              "      <td>272</td>\n",
              "    </tr>\n",
              "    <tr>\n",
              "      <th>149998</th>\n",
              "      <td>2625970</td>\n",
              "      <td>https://en.wikipedia.org/wiki/Vossius%20Gymnasium</td>\n",
              "      <td>Vossius Gymnasium</td>\n",
              "      <td>Vossius Gymnasium is a public gymnasium in Ams...</td>\n",
              "      <td>Vossius Gymnasium is a public gymnasium in the...</td>\n",
              "      <td>2</td>\n",
              "      <td>168</td>\n",
              "      <td>108</td>\n",
              "      <td>200 word wikipedia style introduction on 'Voss...</td>\n",
              "      <td>the town of Vossius, Netherlands. It is named...</td>\n",
              "      <td>32</td>\n",
              "      <td>147</td>\n",
              "    </tr>\n",
              "    <tr>\n",
              "      <th>149999</th>\n",
              "      <td>32345102</td>\n",
              "      <td>https://en.wikipedia.org/wiki/Simone%20Stratigo</td>\n",
              "      <td>Simone Stratigo</td>\n",
              "      <td>Simone Stratigo (, Symeon Filippos Stratigos; ...</td>\n",
              "      <td>Simone Stratigo (, Symeon Filippos Stratigos; ...</td>\n",
              "      <td>2</td>\n",
              "      <td>153</td>\n",
              "      <td>132</td>\n",
              "      <td>200 word wikipedia style introduction on 'Simo...</td>\n",
              "      <td>born 1 July 1979) is a Greek professional foo...</td>\n",
              "      <td>33</td>\n",
              "      <td>173</td>\n",
              "    </tr>\n",
              "  </tbody>\n",
              "</table>\n",
              "<p>150000 rows × 12 columns</p>\n",
              "</div>\n",
              "      <button class=\"colab-df-convert\" onclick=\"convertToInteractive('df-8089a801-d7a9-457e-8f8c-fb7d83645461')\"\n",
              "              title=\"Convert this dataframe to an interactive table.\"\n",
              "              style=\"display:none;\">\n",
              "        \n",
              "  <svg xmlns=\"http://www.w3.org/2000/svg\" height=\"24px\"viewBox=\"0 0 24 24\"\n",
              "       width=\"24px\">\n",
              "    <path d=\"M0 0h24v24H0V0z\" fill=\"none\"/>\n",
              "    <path d=\"M18.56 5.44l.94 2.06.94-2.06 2.06-.94-2.06-.94-.94-2.06-.94 2.06-2.06.94zm-11 1L8.5 8.5l.94-2.06 2.06-.94-2.06-.94L8.5 2.5l-.94 2.06-2.06.94zm10 10l.94 2.06.94-2.06 2.06-.94-2.06-.94-.94-2.06-.94 2.06-2.06.94z\"/><path d=\"M17.41 7.96l-1.37-1.37c-.4-.4-.92-.59-1.43-.59-.52 0-1.04.2-1.43.59L10.3 9.45l-7.72 7.72c-.78.78-.78 2.05 0 2.83L4 21.41c.39.39.9.59 1.41.59.51 0 1.02-.2 1.41-.59l7.78-7.78 2.81-2.81c.8-.78.8-2.07 0-2.86zM5.41 20L4 18.59l7.72-7.72 1.47 1.35L5.41 20z\"/>\n",
              "  </svg>\n",
              "      </button>\n",
              "      \n",
              "  <style>\n",
              "    .colab-df-container {\n",
              "      display:flex;\n",
              "      flex-wrap:wrap;\n",
              "      gap: 12px;\n",
              "    }\n",
              "\n",
              "    .colab-df-convert {\n",
              "      background-color: #E8F0FE;\n",
              "      border: none;\n",
              "      border-radius: 50%;\n",
              "      cursor: pointer;\n",
              "      display: none;\n",
              "      fill: #1967D2;\n",
              "      height: 32px;\n",
              "      padding: 0 0 0 0;\n",
              "      width: 32px;\n",
              "    }\n",
              "\n",
              "    .colab-df-convert:hover {\n",
              "      background-color: #E2EBFA;\n",
              "      box-shadow: 0px 1px 2px rgba(60, 64, 67, 0.3), 0px 1px 3px 1px rgba(60, 64, 67, 0.15);\n",
              "      fill: #174EA6;\n",
              "    }\n",
              "\n",
              "    [theme=dark] .colab-df-convert {\n",
              "      background-color: #3B4455;\n",
              "      fill: #D2E3FC;\n",
              "    }\n",
              "\n",
              "    [theme=dark] .colab-df-convert:hover {\n",
              "      background-color: #434B5C;\n",
              "      box-shadow: 0px 1px 3px 1px rgba(0, 0, 0, 0.15);\n",
              "      filter: drop-shadow(0px 1px 2px rgba(0, 0, 0, 0.3));\n",
              "      fill: #FFFFFF;\n",
              "    }\n",
              "  </style>\n",
              "\n",
              "      <script>\n",
              "        const buttonEl =\n",
              "          document.querySelector('#df-8089a801-d7a9-457e-8f8c-fb7d83645461 button.colab-df-convert');\n",
              "        buttonEl.style.display =\n",
              "          google.colab.kernel.accessAllowed ? 'block' : 'none';\n",
              "\n",
              "        async function convertToInteractive(key) {\n",
              "          const element = document.querySelector('#df-8089a801-d7a9-457e-8f8c-fb7d83645461');\n",
              "          const dataTable =\n",
              "            await google.colab.kernel.invokeFunction('convertToInteractive',\n",
              "                                                     [key], {});\n",
              "          if (!dataTable) return;\n",
              "\n",
              "          const docLinkHtml = 'Like what you see? Visit the ' +\n",
              "            '<a target=\"_blank\" href=https://colab.research.google.com/notebooks/data_table.ipynb>data table notebook</a>'\n",
              "            + ' to learn more about interactive tables.';\n",
              "          element.innerHTML = '';\n",
              "          dataTable['output_type'] = 'display_data';\n",
              "          await google.colab.output.renderOutput(dataTable, element);\n",
              "          const docLink = document.createElement('div');\n",
              "          docLink.innerHTML = docLinkHtml;\n",
              "          element.appendChild(docLink);\n",
              "        }\n",
              "      </script>\n",
              "    </div>\n",
              "  </div>\n",
              "  "
            ]
          },
          "metadata": {},
          "execution_count": 51
        }
      ]
    },
    {
      "cell_type": "markdown",
      "source": [
        "# **Data Preprocessing**"
      ],
      "metadata": {
        "id": "CCUGp6SchEvL"
      }
    },
    {
      "cell_type": "code",
      "source": [
        "df.drop(['url','title_len','wiki_intro_len','generated_intro_len','prompt','generated_text','prompt_tokens','generated_text_tokens'],axis=1,inplace=True)\n",
        "print(df)"
      ],
      "metadata": {
        "id": "_e5SQHiihKxL",
        "colab": {
          "base_uri": "https://localhost:8080/"
        },
        "outputId": "73efc57c-2e4c-4178-ebf0-fa9e1658a4de"
      },
      "execution_count": 52,
      "outputs": [
        {
          "output_type": "stream",
          "name": "stdout",
          "text": [
            "              id                     title  \\\n",
            "0       63064638    Sexhow railway station   \n",
            "1         279621                  Etiäinen   \n",
            "2         287229  Inverse function theorem   \n",
            "3       26712375         Stepping on Roses   \n",
            "4       38894426               Rob Bradley   \n",
            "...          ...                       ...   \n",
            "149995  44173767               Randy Borum   \n",
            "149996  33564134           Sa'och language   \n",
            "149997   4219548           Philip Hanawalt   \n",
            "149998   2625970         Vossius Gymnasium   \n",
            "149999  32345102           Simone Stratigo   \n",
            "\n",
            "                                               wiki_intro  \\\n",
            "0       Sexhow railway station was a railway station b...   \n",
            "1       In Finnish folklore, all places and things, an...   \n",
            "2       In mathematics, specifically differential calc...   \n",
            "3       is a Japanese shōjo manga series written and i...   \n",
            "4       Robert Milner \"Rob\" Bradley, Jr. (born August ...   \n",
            "...                                                   ...   \n",
            "149995  Randy Borum is a Professor and Coordinator of ...   \n",
            "149996  Sa'och (, also, \"Sauch\") is an endangered, nea...   \n",
            "149997  Philip C. Hanawalt (born 1931) is an American ...   \n",
            "149998  Vossius Gymnasium is a public gymnasium in Ams...   \n",
            "149999  Simone Stratigo (, Symeon Filippos Stratigos; ...   \n",
            "\n",
            "                                          generated_intro  \n",
            "0       Sexhow railway station was a railway station l...  \n",
            "1       In Finnish folklore, all places and things, an...  \n",
            "2       In mathematics, specifically differential calc...  \n",
            "3       is a Japanese shōjo manga series written and i...  \n",
            "4       Robert Milner \"Rob\" Bradley, Jr. (born August ...  \n",
            "...                                                   ...  \n",
            "149995  Randy Borum is a Professor and Coordinator of ...  \n",
            "149996  Sa'och (, also, \"Sauch\") is an endangered, nuc...  \n",
            "149997  Philip C. Hanawalt (born 1931) is an American ...  \n",
            "149998  Vossius Gymnasium is a public gymnasium in the...  \n",
            "149999  Simone Stratigo (, Symeon Filippos Stratigos; ...  \n",
            "\n",
            "[150000 rows x 4 columns]\n"
          ]
        }
      ]
    },
    {
      "cell_type": "markdown",
      "source": [
        "## **Splitting the single dataframe into human generated and ai generated text,  adding the 'result' column**"
      ],
      "metadata": {
        "id": "tycqhzzS1_ny"
      }
    },
    {
      "cell_type": "code",
      "source": [
        "dfh=df.copy()\n",
        "dfh.drop(['generated_intro'],axis=1,inplace=True)\n",
        "dfh=dfh.tail(50000)\n",
        "dfh.rename(columns = {'wiki_intro':'text'}, inplace = True)\n",
        "result=[]\n",
        "for i in range(50000):\n",
        "  result.append(\"Human Written\")\n",
        "dfh['result']=result\n",
        "print(dfh)"
      ],
      "metadata": {
        "id": "yVvT6FixGn93",
        "colab": {
          "base_uri": "https://localhost:8080/"
        },
        "outputId": "9e1a0954-ef49-48d2-8253-c3d636b84fe2"
      },
      "execution_count": 53,
      "outputs": [
        {
          "output_type": "stream",
          "name": "stdout",
          "text": [
            "              id              title  \\\n",
            "100000     66488       Moscow Metro   \n",
            "100001   8281334    Delicata squash   \n",
            "100002    509800      Sanjeev Kumar   \n",
            "100003  22757288       Denny Somach   \n",
            "100004  37911262     Luca Ciarrocca   \n",
            "...          ...                ...   \n",
            "149995  44173767        Randy Borum   \n",
            "149996  33564134    Sa'och language   \n",
            "149997   4219548    Philip Hanawalt   \n",
            "149998   2625970  Vossius Gymnasium   \n",
            "149999  32345102    Simone Stratigo   \n",
            "\n",
            "                                                     text         result  \n",
            "100000  The Moscow Metro is a metro system serving Mos...  Human Written  \n",
            "100001  Delicata squash is a variety of winter squash ...  Human Written  \n",
            "100002  Sanjeev Kumar (born Harihar Jethalal Jariwala;...  Human Written  \n",
            "100003  Denny Somach is an American businessman, autho...  Human Written  \n",
            "100004  Luca Ciarrocca is an Italian Internet entrepre...  Human Written  \n",
            "...                                                   ...            ...  \n",
            "149995  Randy Borum is a Professor and Coordinator of ...  Human Written  \n",
            "149996  Sa'och (, also, \"Sauch\") is an endangered, nea...  Human Written  \n",
            "149997  Philip C. Hanawalt (born 1931) is an American ...  Human Written  \n",
            "149998  Vossius Gymnasium is a public gymnasium in Ams...  Human Written  \n",
            "149999  Simone Stratigo (, Symeon Filippos Stratigos; ...  Human Written  \n",
            "\n",
            "[50000 rows x 4 columns]\n"
          ]
        }
      ]
    },
    {
      "cell_type": "code",
      "source": [
        "dfg=df.copy()\n",
        "dfg.drop(['wiki_intro'],axis=1,inplace=True)\n",
        "dfg=dfg.tail(50000)\n",
        "dfg.rename(columns = {'generated_intro':'text'}, inplace = True)\n",
        "result=[]\n",
        "for i in range(50000):\n",
        "  result.append(\"AI Written\")\n",
        "dfg['result']=result\n",
        "print(dfg)"
      ],
      "metadata": {
        "id": "rCFSUfu-vJe4",
        "colab": {
          "base_uri": "https://localhost:8080/"
        },
        "outputId": "b6d86698-2eca-4896-c32d-360a14a2c831"
      },
      "execution_count": 54,
      "outputs": [
        {
          "output_type": "stream",
          "name": "stdout",
          "text": [
            "              id              title  \\\n",
            "100000     66488       Moscow Metro   \n",
            "100001   8281334    Delicata squash   \n",
            "100002    509800      Sanjeev Kumar   \n",
            "100003  22757288       Denny Somach   \n",
            "100004  37911262     Luca Ciarrocca   \n",
            "...          ...                ...   \n",
            "149995  44173767        Randy Borum   \n",
            "149996  33564134    Sa'och language   \n",
            "149997   4219548    Philip Hanawalt   \n",
            "149998   2625970  Vossius Gymnasium   \n",
            "149999  32345102    Simone Stratigo   \n",
            "\n",
            "                                                     text      result  \n",
            "100000  The Moscow Metro is a metro system serving Mos...  AI Written  \n",
            "100001  Delicata squash is a variety of winter squash ...  AI Written  \n",
            "100002  Sanjeev Kumar (born Harihar Jethalal Jariwala;...  AI Written  \n",
            "100003  Denny Somach is an American businessman, autho...  AI Written  \n",
            "100004  Luca Ciarrocca is an Italian Internet entrepre...  AI Written  \n",
            "...                                                   ...         ...  \n",
            "149995  Randy Borum is a Professor and Coordinator of ...  AI Written  \n",
            "149996  Sa'och (, also, \"Sauch\") is an endangered, nuc...  AI Written  \n",
            "149997  Philip C. Hanawalt (born 1931) is an American ...  AI Written  \n",
            "149998  Vossius Gymnasium is a public gymnasium in the...  AI Written  \n",
            "149999  Simone Stratigo (, Symeon Filippos Stratigos; ...  AI Written  \n",
            "\n",
            "[50000 rows x 4 columns]\n"
          ]
        }
      ]
    },
    {
      "cell_type": "markdown",
      "source": [
        "## **Combining the two dataframes into a single dataset**"
      ],
      "metadata": {
        "id": "AjxsRwsz69NM"
      }
    },
    {
      "cell_type": "code",
      "source": [
        "ds=pd.concat([dfh,dfg])\n",
        "ds.shape"
      ],
      "metadata": {
        "id": "NzFOzFRC7Zh0",
        "colab": {
          "base_uri": "https://localhost:8080/"
        },
        "outputId": "588bba17-51ab-402a-a7f1-f51d36de24fb"
      },
      "execution_count": 55,
      "outputs": [
        {
          "output_type": "execute_result",
          "data": {
            "text/plain": [
              "(100000, 4)"
            ]
          },
          "metadata": {},
          "execution_count": 55
        }
      ]
    },
    {
      "cell_type": "code",
      "source": [
        "print(ds)"
      ],
      "metadata": {
        "id": "ddidmwGW8DEA",
        "colab": {
          "base_uri": "https://localhost:8080/"
        },
        "outputId": "d2ef6f33-c13e-4729-e882-91738b9dcb6a"
      },
      "execution_count": 56,
      "outputs": [
        {
          "output_type": "stream",
          "name": "stdout",
          "text": [
            "              id              title  \\\n",
            "100000     66488       Moscow Metro   \n",
            "100001   8281334    Delicata squash   \n",
            "100002    509800      Sanjeev Kumar   \n",
            "100003  22757288       Denny Somach   \n",
            "100004  37911262     Luca Ciarrocca   \n",
            "...          ...                ...   \n",
            "149995  44173767        Randy Borum   \n",
            "149996  33564134    Sa'och language   \n",
            "149997   4219548    Philip Hanawalt   \n",
            "149998   2625970  Vossius Gymnasium   \n",
            "149999  32345102    Simone Stratigo   \n",
            "\n",
            "                                                     text         result  \n",
            "100000  The Moscow Metro is a metro system serving Mos...  Human Written  \n",
            "100001  Delicata squash is a variety of winter squash ...  Human Written  \n",
            "100002  Sanjeev Kumar (born Harihar Jethalal Jariwala;...  Human Written  \n",
            "100003  Denny Somach is an American businessman, autho...  Human Written  \n",
            "100004  Luca Ciarrocca is an Italian Internet entrepre...  Human Written  \n",
            "...                                                   ...            ...  \n",
            "149995  Randy Borum is a Professor and Coordinator of ...     AI Written  \n",
            "149996  Sa'och (, also, \"Sauch\") is an endangered, nuc...     AI Written  \n",
            "149997  Philip C. Hanawalt (born 1931) is an American ...     AI Written  \n",
            "149998  Vossius Gymnasium is a public gymnasium in the...     AI Written  \n",
            "149999  Simone Stratigo (, Symeon Filippos Stratigos; ...     AI Written  \n",
            "\n",
            "[100000 rows x 4 columns]\n"
          ]
        }
      ]
    },
    {
      "cell_type": "markdown",
      "source": [
        "# **Data Preparation**"
      ],
      "metadata": {
        "id": "Nd4x-BxWzjLa"
      }
    },
    {
      "cell_type": "markdown",
      "source": [
        "## **Data Seperation as x and y**\n"
      ],
      "metadata": {
        "id": "D-2h6fASzvDc"
      }
    },
    {
      "cell_type": "code",
      "source": [
        "y=ds['result']\n",
        "print(y)"
      ],
      "metadata": {
        "id": "7wjB_hGxz7Ur",
        "colab": {
          "base_uri": "https://localhost:8080/"
        },
        "outputId": "00e68eb5-40bd-439f-a317-44249fd506d7"
      },
      "execution_count": 57,
      "outputs": [
        {
          "output_type": "stream",
          "name": "stdout",
          "text": [
            "100000    Human Written\n",
            "100001    Human Written\n",
            "100002    Human Written\n",
            "100003    Human Written\n",
            "100004    Human Written\n",
            "              ...      \n",
            "149995       AI Written\n",
            "149996       AI Written\n",
            "149997       AI Written\n",
            "149998       AI Written\n",
            "149999       AI Written\n",
            "Name: result, Length: 100000, dtype: object\n"
          ]
        }
      ]
    },
    {
      "cell_type": "code",
      "source": [
        "x=ds.drop(['result'], axis=1)\n",
        "print(x)"
      ],
      "metadata": {
        "id": "Vpzo9T5P0Vyy",
        "colab": {
          "base_uri": "https://localhost:8080/"
        },
        "outputId": "6f85c106-291f-4c26-aef4-d53a2712d51f"
      },
      "execution_count": 58,
      "outputs": [
        {
          "output_type": "stream",
          "name": "stdout",
          "text": [
            "              id              title  \\\n",
            "100000     66488       Moscow Metro   \n",
            "100001   8281334    Delicata squash   \n",
            "100002    509800      Sanjeev Kumar   \n",
            "100003  22757288       Denny Somach   \n",
            "100004  37911262     Luca Ciarrocca   \n",
            "...          ...                ...   \n",
            "149995  44173767        Randy Borum   \n",
            "149996  33564134    Sa'och language   \n",
            "149997   4219548    Philip Hanawalt   \n",
            "149998   2625970  Vossius Gymnasium   \n",
            "149999  32345102    Simone Stratigo   \n",
            "\n",
            "                                                     text  \n",
            "100000  The Moscow Metro is a metro system serving Mos...  \n",
            "100001  Delicata squash is a variety of winter squash ...  \n",
            "100002  Sanjeev Kumar (born Harihar Jethalal Jariwala;...  \n",
            "100003  Denny Somach is an American businessman, autho...  \n",
            "100004  Luca Ciarrocca is an Italian Internet entrepre...  \n",
            "...                                                   ...  \n",
            "149995  Randy Borum is a Professor and Coordinator of ...  \n",
            "149996  Sa'och (, also, \"Sauch\") is an endangered, nuc...  \n",
            "149997  Philip C. Hanawalt (born 1931) is an American ...  \n",
            "149998  Vossius Gymnasium is a public gymnasium in the...  \n",
            "149999  Simone Stratigo (, Symeon Filippos Stratigos; ...  \n",
            "\n",
            "[100000 rows x 3 columns]\n"
          ]
        }
      ]
    },
    {
      "cell_type": "markdown",
      "source": [
        "## **Data Splitting**"
      ],
      "metadata": {
        "id": "sdV3m66z0vMq"
      }
    },
    {
      "cell_type": "code",
      "source": [
        "from sklearn.model_selection import train_test_split\n",
        "x_train, x_test, y_train, y_test = train_test_split(ds['text'], ds['result'],test_size=0.3, random_state= 42)"
      ],
      "metadata": {
        "id": "HzPudKv200Y7"
      },
      "execution_count": 59,
      "outputs": []
    },
    {
      "cell_type": "code",
      "source": [
        "x_train"
      ],
      "metadata": {
        "id": "UWl3kCPJ31-o",
        "colab": {
          "base_uri": "https://localhost:8080/"
        },
        "outputId": "eb4af41b-8410-49f6-c262-3e74235f85eb"
      },
      "execution_count": 60,
      "outputs": [
        {
          "output_type": "execute_result",
          "data": {
            "text/plain": [
              "126513    Charles Alexander Bruce (11 January 1793 – 23 ...\n",
              "110406    Frank Shelby Groner (1877–1943) was a lawyer, ...\n",
              "127322    Grigori Petrovitch Maximoff (1893–1950) was a ...\n",
              "103699    The Women's Emancipation Union was founded by ...\n",
              "115412    \"Monotonous\" is a popular song written by Tom ...\n",
              "                                ...                        \n",
              "106265    Zhang Kunsheng (; born August 1958) is a forme...\n",
              "104886    The Academy of Ikalto  was an educational inst...\n",
              "126820    The GWR 645 Class was a class of 2-6-0 steam l...\n",
              "100860    Robert \"Bob\" Gordon Vogel (born 7 October 1981...\n",
              "115795    A singer is a person who sings. Singer or Sing...\n",
              "Name: text, Length: 70000, dtype: object"
            ]
          },
          "metadata": {},
          "execution_count": 60
        }
      ]
    },
    {
      "cell_type": "code",
      "source": [
        "x_test"
      ],
      "metadata": {
        "id": "o_cwaQ8t37pr",
        "colab": {
          "base_uri": "https://localhost:8080/"
        },
        "outputId": "46f02969-d166-446c-e4b5-df5067a5efce"
      },
      "execution_count": 61,
      "outputs": [
        {
          "output_type": "execute_result",
          "data": {
            "text/plain": [
              "125721    Metanoetics (from  \"conversion, repentance\" fr...\n",
              "130184    Violence is the sixth studio album from Editor...\n",
              "119864    Cielo Jazmín Veizaga Arteaga (born 17 March 20...\n",
              "126699    Stromberg v. California, 283 U.S. 359 (1931), ...\n",
              "142991    Peripheral chemoreceptors (of the carotid and ...\n",
              "                                ...                        \n",
              "142648    Michael J. Harder (born February 8, 1973) is a...\n",
              "136306    Lenny Lyles (January 26, 1936 – November 1, 19...\n",
              "145466    A barrel murder was a method of \"execution\" us...\n",
              "113724    Jose \"Junjun\" Antiquisa Capistrano, Jr., was t...\n",
              "134122    Bishop's University  is a small Liberal arts c...\n",
              "Name: text, Length: 30000, dtype: object"
            ]
          },
          "metadata": {},
          "execution_count": 61
        }
      ]
    },
    {
      "cell_type": "code",
      "source": [
        "y_train"
      ],
      "metadata": {
        "id": "ekimJVhwfT5N",
        "colab": {
          "base_uri": "https://localhost:8080/"
        },
        "outputId": "1b3af729-cc8b-433b-9716-df45c604a90f"
      },
      "execution_count": 62,
      "outputs": [
        {
          "output_type": "execute_result",
          "data": {
            "text/plain": [
              "126513       AI Written\n",
              "110406       AI Written\n",
              "127322    Human Written\n",
              "103699       AI Written\n",
              "115412       AI Written\n",
              "              ...      \n",
              "106265    Human Written\n",
              "104886       AI Written\n",
              "126820       AI Written\n",
              "100860    Human Written\n",
              "115795    Human Written\n",
              "Name: result, Length: 70000, dtype: object"
            ]
          },
          "metadata": {},
          "execution_count": 62
        }
      ]
    },
    {
      "cell_type": "code",
      "source": [
        "y_test"
      ],
      "metadata": {
        "id": "Ik62o3nGfOjz",
        "colab": {
          "base_uri": "https://localhost:8080/"
        },
        "outputId": "4cad74f7-9cf3-4b13-c19f-d357617b4ffc"
      },
      "execution_count": 63,
      "outputs": [
        {
          "output_type": "execute_result",
          "data": {
            "text/plain": [
              "125721       AI Written\n",
              "130184       AI Written\n",
              "119864    Human Written\n",
              "126699       AI Written\n",
              "142991       AI Written\n",
              "              ...      \n",
              "142648    Human Written\n",
              "136306       AI Written\n",
              "145466    Human Written\n",
              "113724       AI Written\n",
              "134122    Human Written\n",
              "Name: result, Length: 30000, dtype: object"
            ]
          },
          "metadata": {},
          "execution_count": 63
        }
      ]
    },
    {
      "cell_type": "markdown",
      "source": [
        "# **Model Building**"
      ],
      "metadata": {
        "id": "gI5sqeSI4Pv1"
      }
    },
    {
      "cell_type": "markdown",
      "source": [
        "## **Linear Support vector Machine (LSVM)**"
      ],
      "metadata": {
        "id": "0AOJmL9O4aFh"
      }
    },
    {
      "cell_type": "markdown",
      "source": [
        "### **Importing necessary libraries**"
      ],
      "metadata": {
        "id": "Mq0x2OKL9H79"
      }
    },
    {
      "cell_type": "code",
      "source": [
        "from sklearn.svm import LinearSVC\n",
        "from sklearn.feature_extraction.text import TfidfVectorizer\n",
        "from sklearn.metrics import accuracy_score"
      ],
      "metadata": {
        "id": "9lWThzs_412A"
      },
      "execution_count": 64,
      "outputs": []
    },
    {
      "cell_type": "markdown",
      "source": [
        "### **Vectorize the text data using TF-IDF vectorizer**"
      ],
      "metadata": {
        "id": "4D4qOnwTGW-J"
      }
    },
    {
      "cell_type": "code",
      "source": [
        "tfidf = TfidfVectorizer()"
      ],
      "metadata": {
        "id": "Z4-srl1jGjHK"
      },
      "execution_count": 65,
      "outputs": []
    },
    {
      "cell_type": "code",
      "source": [
        "\n",
        "X_train_tfidf = tfidf.fit_transform(x_train)\n",
        "X_test_tfidf = tfidf.transform(x_test)"
      ],
      "metadata": {
        "id": "HH28EDvvGs5_"
      },
      "execution_count": 66,
      "outputs": []
    },
    {
      "cell_type": "markdown",
      "source": [
        "### **Model creation**"
      ],
      "metadata": {
        "id": "xYhlq9fk9Uyc"
      }
    },
    {
      "cell_type": "code",
      "source": [
        "lsvm_model = LinearSVC(random_state=42)"
      ],
      "metadata": {
        "id": "xI2Y23lP94Ay"
      },
      "execution_count": 67,
      "outputs": []
    },
    {
      "cell_type": "markdown",
      "source": [
        "### **Model training**"
      ],
      "metadata": {
        "id": "WeughRLH-8av"
      }
    },
    {
      "cell_type": "code",
      "source": [
        "lsvm_model.fit(X_train_tfidf, y_train)"
      ],
      "metadata": {
        "id": "Ag45PjVc_BMO",
        "colab": {
          "base_uri": "https://localhost:8080/",
          "height": 74
        },
        "outputId": "e902b273-6df6-4a65-f4dc-bdcdcac85b5e"
      },
      "execution_count": 68,
      "outputs": [
        {
          "output_type": "execute_result",
          "data": {
            "text/plain": [
              "LinearSVC(random_state=42)"
            ],
            "text/html": [
              "<style>#sk-container-id-1 {color: black;background-color: white;}#sk-container-id-1 pre{padding: 0;}#sk-container-id-1 div.sk-toggleable {background-color: white;}#sk-container-id-1 label.sk-toggleable__label {cursor: pointer;display: block;width: 100%;margin-bottom: 0;padding: 0.3em;box-sizing: border-box;text-align: center;}#sk-container-id-1 label.sk-toggleable__label-arrow:before {content: \"▸\";float: left;margin-right: 0.25em;color: #696969;}#sk-container-id-1 label.sk-toggleable__label-arrow:hover:before {color: black;}#sk-container-id-1 div.sk-estimator:hover label.sk-toggleable__label-arrow:before {color: black;}#sk-container-id-1 div.sk-toggleable__content {max-height: 0;max-width: 0;overflow: hidden;text-align: left;background-color: #f0f8ff;}#sk-container-id-1 div.sk-toggleable__content pre {margin: 0.2em;color: black;border-radius: 0.25em;background-color: #f0f8ff;}#sk-container-id-1 input.sk-toggleable__control:checked~div.sk-toggleable__content {max-height: 200px;max-width: 100%;overflow: auto;}#sk-container-id-1 input.sk-toggleable__control:checked~label.sk-toggleable__label-arrow:before {content: \"▾\";}#sk-container-id-1 div.sk-estimator input.sk-toggleable__control:checked~label.sk-toggleable__label {background-color: #d4ebff;}#sk-container-id-1 div.sk-label input.sk-toggleable__control:checked~label.sk-toggleable__label {background-color: #d4ebff;}#sk-container-id-1 input.sk-hidden--visually {border: 0;clip: rect(1px 1px 1px 1px);clip: rect(1px, 1px, 1px, 1px);height: 1px;margin: -1px;overflow: hidden;padding: 0;position: absolute;width: 1px;}#sk-container-id-1 div.sk-estimator {font-family: monospace;background-color: #f0f8ff;border: 1px dotted black;border-radius: 0.25em;box-sizing: border-box;margin-bottom: 0.5em;}#sk-container-id-1 div.sk-estimator:hover {background-color: #d4ebff;}#sk-container-id-1 div.sk-parallel-item::after {content: \"\";width: 100%;border-bottom: 1px solid gray;flex-grow: 1;}#sk-container-id-1 div.sk-label:hover label.sk-toggleable__label {background-color: #d4ebff;}#sk-container-id-1 div.sk-serial::before {content: \"\";position: absolute;border-left: 1px solid gray;box-sizing: border-box;top: 0;bottom: 0;left: 50%;z-index: 0;}#sk-container-id-1 div.sk-serial {display: flex;flex-direction: column;align-items: center;background-color: white;padding-right: 0.2em;padding-left: 0.2em;position: relative;}#sk-container-id-1 div.sk-item {position: relative;z-index: 1;}#sk-container-id-1 div.sk-parallel {display: flex;align-items: stretch;justify-content: center;background-color: white;position: relative;}#sk-container-id-1 div.sk-item::before, #sk-container-id-1 div.sk-parallel-item::before {content: \"\";position: absolute;border-left: 1px solid gray;box-sizing: border-box;top: 0;bottom: 0;left: 50%;z-index: -1;}#sk-container-id-1 div.sk-parallel-item {display: flex;flex-direction: column;z-index: 1;position: relative;background-color: white;}#sk-container-id-1 div.sk-parallel-item:first-child::after {align-self: flex-end;width: 50%;}#sk-container-id-1 div.sk-parallel-item:last-child::after {align-self: flex-start;width: 50%;}#sk-container-id-1 div.sk-parallel-item:only-child::after {width: 0;}#sk-container-id-1 div.sk-dashed-wrapped {border: 1px dashed gray;margin: 0 0.4em 0.5em 0.4em;box-sizing: border-box;padding-bottom: 0.4em;background-color: white;}#sk-container-id-1 div.sk-label label {font-family: monospace;font-weight: bold;display: inline-block;line-height: 1.2em;}#sk-container-id-1 div.sk-label-container {text-align: center;}#sk-container-id-1 div.sk-container {/* jupyter's `normalize.less` sets `[hidden] { display: none; }` but bootstrap.min.css set `[hidden] { display: none !important; }` so we also need the `!important` here to be able to override the default hidden behavior on the sphinx rendered scikit-learn.org. See: https://github.com/scikit-learn/scikit-learn/issues/21755 */display: inline-block !important;position: relative;}#sk-container-id-1 div.sk-text-repr-fallback {display: none;}</style><div id=\"sk-container-id-1\" class=\"sk-top-container\"><div class=\"sk-text-repr-fallback\"><pre>LinearSVC(random_state=42)</pre><b>In a Jupyter environment, please rerun this cell to show the HTML representation or trust the notebook. <br />On GitHub, the HTML representation is unable to render, please try loading this page with nbviewer.org.</b></div><div class=\"sk-container\" hidden><div class=\"sk-item\"><div class=\"sk-estimator sk-toggleable\"><input class=\"sk-toggleable__control sk-hidden--visually\" id=\"sk-estimator-id-1\" type=\"checkbox\" checked><label for=\"sk-estimator-id-1\" class=\"sk-toggleable__label sk-toggleable__label-arrow\">LinearSVC</label><div class=\"sk-toggleable__content\"><pre>LinearSVC(random_state=42)</pre></div></div></div></div></div>"
            ]
          },
          "metadata": {},
          "execution_count": 68
        }
      ]
    },
    {
      "cell_type": "markdown",
      "source": [
        "# **Making predictions on the testing set**"
      ],
      "metadata": {
        "id": "gLbQ5e0jJrry"
      }
    },
    {
      "cell_type": "code",
      "source": [
        "y_pred = lsvm_model.predict(X_test_tfidf)"
      ],
      "metadata": {
        "id": "YWmm87GtKP1h"
      },
      "execution_count": 69,
      "outputs": []
    },
    {
      "cell_type": "markdown",
      "source": [
        "# **Computing the accuracy score of the model**"
      ],
      "metadata": {
        "id": "pq2SmoeTKYUn"
      }
    },
    {
      "cell_type": "code",
      "source": [
        "acc = accuracy_score(y_test, y_pred)\n",
        "print(\"Accuracy:\", acc)"
      ],
      "metadata": {
        "colab": {
          "base_uri": "https://localhost:8080/"
        },
        "id": "b7nDFZUdKj2K",
        "outputId": "59f41ea4-4b06-4b52-e5cf-080eb2107bde"
      },
      "execution_count": 70,
      "outputs": [
        {
          "output_type": "stream",
          "name": "stdout",
          "text": [
            "Accuracy: 0.9290666666666667\n"
          ]
        }
      ]
    },
    {
      "cell_type": "markdown",
      "source": [
        "# **Testing the model with a random text**"
      ],
      "metadata": {
        "id": "7qEm3pgBMDaU"
      }
    },
    {
      "cell_type": "code",
      "source": [
        "random_text = \"India is a vast and diverse country located in South Asia, bordered by the Indian Ocean on the south, the Bay of Bengal on the east, and the Arabian Sea on the west. It is the world's second-most populous country and home to a rich and varied cultural heritage, including ancient religions, traditions, and languages. India has a rapidly growing economy and is considered a major player in global affairs. Its cuisine, arts, music, and cinema are popular worldwide, and the country is famous for its colorful festivals, such as Diwali and Holi. However, India also faces many challenges, such as poverty, inequality, and environmental issues, as it continues to work towards achieving its potential as a modern and thriving nation.\""
      ],
      "metadata": {
        "id": "fXH2qjd8MLeW"
      },
      "execution_count": 74,
      "outputs": []
    },
    {
      "cell_type": "markdown",
      "source": [
        "### **Vectorising the text with the same TfidfVectorizer used to fit the training data**"
      ],
      "metadata": {
        "id": "72mIMue9MhIN"
      }
    },
    {
      "cell_type": "code",
      "source": [
        "random_text_tfidf = tfidf.transform([random_text])"
      ],
      "metadata": {
        "id": "v_Qsruw3OGNt"
      },
      "execution_count": 75,
      "outputs": []
    },
    {
      "cell_type": "markdown",
      "source": [
        "### **Using the trained LinearSVC model to make predictions**"
      ],
      "metadata": {
        "id": "rgEzOGnMOLzr"
      }
    },
    {
      "cell_type": "code",
      "source": [
        "prediction = lsvm_model.predict(random_text_tfidf)\n",
        "print(\"Prediction:\", prediction)"
      ],
      "metadata": {
        "colab": {
          "base_uri": "https://localhost:8080/"
        },
        "id": "dJm2gyCxOWI6",
        "outputId": "9bdce806-bf43-49e3-ead4-c6e7808b636b"
      },
      "execution_count": 76,
      "outputs": [
        {
          "output_type": "stream",
          "name": "stdout",
          "text": [
            "Prediction: ['AI Written']\n"
          ]
        }
      ]
    }
  ]
}