{
  "cells": [
    {
      "cell_type": "markdown",
      "metadata": {
        "id": "view-in-github",
        "colab_type": "text"
      },
      "source": [
        "<a href=\"https://colab.research.google.com/github/navnee7h/AI-generated-Text-Detection/blob/main/AI_Detector_Random_Forest_Model.ipynb\" target=\"_parent\"><img src=\"https://colab.research.google.com/assets/colab-badge.svg\" alt=\"Open In Colab\"/></a>"
      ]
    },
    {
      "cell_type": "markdown",
      "metadata": {
        "id": "p2FBl2iBknTo"
      },
      "source": [
        "# **🔘AI Generated text detection ML model**"
      ]
    },
    {
      "cell_type": "markdown",
      "metadata": {
        "id": "hb92I5DNkr8T"
      },
      "source": [
        "## **🔗Linking  google drive to google colab**\n"
      ]
    },
    {
      "cell_type": "code",
      "execution_count": null,
      "metadata": {
        "colab": {
          "base_uri": "https://localhost:8080/"
        },
        "id": "EmeojTtVkw5r",
        "outputId": "6e7b0f49-a798-446c-8a84-e852325a62da"
      },
      "outputs": [
        {
          "name": "stdout",
          "output_type": "stream",
          "text": [
            "Drive already mounted at /content/drive; to attempt to forcibly remount, call drive.mount(\"/content/drive\", force_remount=True).\n"
          ]
        }
      ],
      "source": [
        "from google.colab import drive\n",
        "drive.mount('/content/drive')"
      ]
    },
    {
      "cell_type": "code",
      "execution_count": null,
      "metadata": {
        "colab": {
          "base_uri": "https://localhost:8080/"
        },
        "id": "AGNkFIMWk0Ws",
        "outputId": "d3f4a626-cfb2-4b90-bb67-0893485a2e7c"
      },
      "outputs": [
        {
          "name": "stdout",
          "output_type": "stream",
          "text": [
            "/content\n"
          ]
        }
      ],
      "source": [
        "!pwd"
      ]
    },
    {
      "cell_type": "markdown",
      "metadata": {
        "id": "QupGn81mk3gz"
      },
      "source": [
        "# **Load data**"
      ]
    },
    {
      "cell_type": "code",
      "execution_count": null,
      "metadata": {
        "colab": {
          "base_uri": "https://localhost:8080/",
          "height": 1000
        },
        "id": "cO2DTej4k69s",
        "outputId": "41baf4cb-8024-4e5a-b115-e10f833cf02c"
      },
      "outputs": [
        {
          "data": {
            "text/html": [
              "\n",
              "  <div id=\"df-eabb2c4a-0081-45c4-912b-31f49c2e8851\">\n",
              "    <div class=\"colab-df-container\">\n",
              "      <div>\n",
              "<style scoped>\n",
              "    .dataframe tbody tr th:only-of-type {\n",
              "        vertical-align: middle;\n",
              "    }\n",
              "\n",
              "    .dataframe tbody tr th {\n",
              "        vertical-align: top;\n",
              "    }\n",
              "\n",
              "    .dataframe thead th {\n",
              "        text-align: right;\n",
              "    }\n",
              "</style>\n",
              "<table border=\"1\" class=\"dataframe\">\n",
              "  <thead>\n",
              "    <tr style=\"text-align: right;\">\n",
              "      <th></th>\n",
              "      <th>id</th>\n",
              "      <th>url</th>\n",
              "      <th>title</th>\n",
              "      <th>wiki_intro</th>\n",
              "      <th>generated_intro</th>\n",
              "      <th>title_len</th>\n",
              "      <th>wiki_intro_len</th>\n",
              "      <th>generated_intro_len</th>\n",
              "      <th>prompt</th>\n",
              "      <th>generated_text</th>\n",
              "      <th>prompt_tokens</th>\n",
              "      <th>generated_text_tokens</th>\n",
              "    </tr>\n",
              "  </thead>\n",
              "  <tbody>\n",
              "    <tr>\n",
              "      <th>0</th>\n",
              "      <td>63064638</td>\n",
              "      <td>https://en.wikipedia.org/wiki/Sexhow%20railway...</td>\n",
              "      <td>Sexhow railway station</td>\n",
              "      <td>Sexhow railway station was a railway station b...</td>\n",
              "      <td>Sexhow railway station was a railway station l...</td>\n",
              "      <td>3</td>\n",
              "      <td>174</td>\n",
              "      <td>78</td>\n",
              "      <td>200 word wikipedia style introduction on 'Sexh...</td>\n",
              "      <td>located in the town of Sexhow, on the Cumbria...</td>\n",
              "      <td>25</td>\n",
              "      <td>88</td>\n",
              "    </tr>\n",
              "    <tr>\n",
              "      <th>1</th>\n",
              "      <td>279621</td>\n",
              "      <td>https://en.wikipedia.org/wiki/Eti%C3%A4inen</td>\n",
              "      <td>Etiäinen</td>\n",
              "      <td>In Finnish folklore, all places and things, an...</td>\n",
              "      <td>In Finnish folklore, all places and things, an...</td>\n",
              "      <td>1</td>\n",
              "      <td>187</td>\n",
              "      <td>80</td>\n",
              "      <td>200 word wikipedia style introduction on 'Etiä...</td>\n",
              "      <td>animate or inanimate, have a spirit or \"etiäi...</td>\n",
              "      <td>26</td>\n",
              "      <td>101</td>\n",
              "    </tr>\n",
              "    <tr>\n",
              "      <th>2</th>\n",
              "      <td>287229</td>\n",
              "      <td>https://en.wikipedia.org/wiki/Inverse%20functi...</td>\n",
              "      <td>Inverse function theorem</td>\n",
              "      <td>In mathematics, specifically differential calc...</td>\n",
              "      <td>In mathematics, specifically differential calc...</td>\n",
              "      <td>3</td>\n",
              "      <td>170</td>\n",
              "      <td>59</td>\n",
              "      <td>200 word wikipedia style introduction on 'Inve...</td>\n",
              "      <td>function theorem states that for every real-v...</td>\n",
              "      <td>26</td>\n",
              "      <td>65</td>\n",
              "    </tr>\n",
              "    <tr>\n",
              "      <th>3</th>\n",
              "      <td>26712375</td>\n",
              "      <td>https://en.wikipedia.org/wiki/Stepping%20on%20...</td>\n",
              "      <td>Stepping on Roses</td>\n",
              "      <td>is a Japanese shōjo manga series written and i...</td>\n",
              "      <td>is a Japanese shōjo manga series written and i...</td>\n",
              "      <td>3</td>\n",
              "      <td>335</td>\n",
              "      <td>121</td>\n",
              "      <td>200 word wikipedia style introduction on 'Step...</td>\n",
              "      <td>and illustrated by Maki Fujii. The series fol...</td>\n",
              "      <td>26</td>\n",
              "      <td>150</td>\n",
              "    </tr>\n",
              "    <tr>\n",
              "      <th>4</th>\n",
              "      <td>38894426</td>\n",
              "      <td>https://en.wikipedia.org/wiki/Rob%20Bradley</td>\n",
              "      <td>Rob Bradley</td>\n",
              "      <td>Robert Milner \"Rob\" Bradley, Jr. (born August ...</td>\n",
              "      <td>Robert Milner \"Rob\" Bradley, Jr. (born August ...</td>\n",
              "      <td>2</td>\n",
              "      <td>170</td>\n",
              "      <td>136</td>\n",
              "      <td>200 word wikipedia style introduction on 'Rob ...</td>\n",
              "      <td>29, 1973) is an American former professional ...</td>\n",
              "      <td>28</td>\n",
              "      <td>162</td>\n",
              "    </tr>\n",
              "    <tr>\n",
              "      <th>...</th>\n",
              "      <td>...</td>\n",
              "      <td>...</td>\n",
              "      <td>...</td>\n",
              "      <td>...</td>\n",
              "      <td>...</td>\n",
              "      <td>...</td>\n",
              "      <td>...</td>\n",
              "      <td>...</td>\n",
              "      <td>...</td>\n",
              "      <td>...</td>\n",
              "      <td>...</td>\n",
              "      <td>...</td>\n",
              "    </tr>\n",
              "    <tr>\n",
              "      <th>149995</th>\n",
              "      <td>44173767</td>\n",
              "      <td>https://en.wikipedia.org/wiki/Randy%20Borum</td>\n",
              "      <td>Randy Borum</td>\n",
              "      <td>Randy Borum is a Professor and Coordinator of ...</td>\n",
              "      <td>Randy Borum is a Professor and Coordinator of ...</td>\n",
              "      <td>2</td>\n",
              "      <td>185</td>\n",
              "      <td>71</td>\n",
              "      <td>200 word wikipedia style introduction on 'Rand...</td>\n",
              "      <td>of the Master of Fine Arts Program in Creativ...</td>\n",
              "      <td>25</td>\n",
              "      <td>92</td>\n",
              "    </tr>\n",
              "    <tr>\n",
              "      <th>149996</th>\n",
              "      <td>33564134</td>\n",
              "      <td>https://en.wikipedia.org/wiki/Sa%27och%20language</td>\n",
              "      <td>Sa'och language</td>\n",
              "      <td>Sa'och (, also, \"Sauch\") is an endangered, nea...</td>\n",
              "      <td>Sa'och (, also, \"Sauch\") is an endangered, nuc...</td>\n",
              "      <td>2</td>\n",
              "      <td>175</td>\n",
              "      <td>134</td>\n",
              "      <td>200 word wikipedia style introduction on 'Sa'o...</td>\n",
              "      <td>nuclear-speaking, isolate language of the Ath...</td>\n",
              "      <td>33</td>\n",
              "      <td>184</td>\n",
              "    </tr>\n",
              "    <tr>\n",
              "      <th>149997</th>\n",
              "      <td>4219548</td>\n",
              "      <td>https://en.wikipedia.org/wiki/Philip%20Hanawalt</td>\n",
              "      <td>Philip Hanawalt</td>\n",
              "      <td>Philip C. Hanawalt (born 1931) is an American ...</td>\n",
              "      <td>Philip C. Hanawalt (born 1931) is an American ...</td>\n",
              "      <td>2</td>\n",
              "      <td>166</td>\n",
              "      <td>191</td>\n",
              "      <td>200 word wikipedia style introduction on 'Phil...</td>\n",
              "      <td>American graphic artist and illustrator. He i...</td>\n",
              "      <td>30</td>\n",
              "      <td>272</td>\n",
              "    </tr>\n",
              "    <tr>\n",
              "      <th>149998</th>\n",
              "      <td>2625970</td>\n",
              "      <td>https://en.wikipedia.org/wiki/Vossius%20Gymnasium</td>\n",
              "      <td>Vossius Gymnasium</td>\n",
              "      <td>Vossius Gymnasium is a public gymnasium in Ams...</td>\n",
              "      <td>Vossius Gymnasium is a public gymnasium in the...</td>\n",
              "      <td>2</td>\n",
              "      <td>168</td>\n",
              "      <td>108</td>\n",
              "      <td>200 word wikipedia style introduction on 'Voss...</td>\n",
              "      <td>the town of Vossius, Netherlands. It is named...</td>\n",
              "      <td>32</td>\n",
              "      <td>147</td>\n",
              "    </tr>\n",
              "    <tr>\n",
              "      <th>149999</th>\n",
              "      <td>32345102</td>\n",
              "      <td>https://en.wikipedia.org/wiki/Simone%20Stratigo</td>\n",
              "      <td>Simone Stratigo</td>\n",
              "      <td>Simone Stratigo (, Symeon Filippos Stratigos; ...</td>\n",
              "      <td>Simone Stratigo (, Symeon Filippos Stratigos; ...</td>\n",
              "      <td>2</td>\n",
              "      <td>153</td>\n",
              "      <td>132</td>\n",
              "      <td>200 word wikipedia style introduction on 'Simo...</td>\n",
              "      <td>born 1 July 1979) is a Greek professional foo...</td>\n",
              "      <td>33</td>\n",
              "      <td>173</td>\n",
              "    </tr>\n",
              "  </tbody>\n",
              "</table>\n",
              "<p>150000 rows × 12 columns</p>\n",
              "</div>\n",
              "      <button class=\"colab-df-convert\" onclick=\"convertToInteractive('df-eabb2c4a-0081-45c4-912b-31f49c2e8851')\"\n",
              "              title=\"Convert this dataframe to an interactive table.\"\n",
              "              style=\"display:none;\">\n",
              "        \n",
              "  <svg xmlns=\"http://www.w3.org/2000/svg\" height=\"24px\"viewBox=\"0 0 24 24\"\n",
              "       width=\"24px\">\n",
              "    <path d=\"M0 0h24v24H0V0z\" fill=\"none\"/>\n",
              "    <path d=\"M18.56 5.44l.94 2.06.94-2.06 2.06-.94-2.06-.94-.94-2.06-.94 2.06-2.06.94zm-11 1L8.5 8.5l.94-2.06 2.06-.94-2.06-.94L8.5 2.5l-.94 2.06-2.06.94zm10 10l.94 2.06.94-2.06 2.06-.94-2.06-.94-.94-2.06-.94 2.06-2.06.94z\"/><path d=\"M17.41 7.96l-1.37-1.37c-.4-.4-.92-.59-1.43-.59-.52 0-1.04.2-1.43.59L10.3 9.45l-7.72 7.72c-.78.78-.78 2.05 0 2.83L4 21.41c.39.39.9.59 1.41.59.51 0 1.02-.2 1.41-.59l7.78-7.78 2.81-2.81c.8-.78.8-2.07 0-2.86zM5.41 20L4 18.59l7.72-7.72 1.47 1.35L5.41 20z\"/>\n",
              "  </svg>\n",
              "      </button>\n",
              "      \n",
              "  <style>\n",
              "    .colab-df-container {\n",
              "      display:flex;\n",
              "      flex-wrap:wrap;\n",
              "      gap: 12px;\n",
              "    }\n",
              "\n",
              "    .colab-df-convert {\n",
              "      background-color: #E8F0FE;\n",
              "      border: none;\n",
              "      border-radius: 50%;\n",
              "      cursor: pointer;\n",
              "      display: none;\n",
              "      fill: #1967D2;\n",
              "      height: 32px;\n",
              "      padding: 0 0 0 0;\n",
              "      width: 32px;\n",
              "    }\n",
              "\n",
              "    .colab-df-convert:hover {\n",
              "      background-color: #E2EBFA;\n",
              "      box-shadow: 0px 1px 2px rgba(60, 64, 67, 0.3), 0px 1px 3px 1px rgba(60, 64, 67, 0.15);\n",
              "      fill: #174EA6;\n",
              "    }\n",
              "\n",
              "    [theme=dark] .colab-df-convert {\n",
              "      background-color: #3B4455;\n",
              "      fill: #D2E3FC;\n",
              "    }\n",
              "\n",
              "    [theme=dark] .colab-df-convert:hover {\n",
              "      background-color: #434B5C;\n",
              "      box-shadow: 0px 1px 3px 1px rgba(0, 0, 0, 0.15);\n",
              "      filter: drop-shadow(0px 1px 2px rgba(0, 0, 0, 0.3));\n",
              "      fill: #FFFFFF;\n",
              "    }\n",
              "  </style>\n",
              "\n",
              "      <script>\n",
              "        const buttonEl =\n",
              "          document.querySelector('#df-eabb2c4a-0081-45c4-912b-31f49c2e8851 button.colab-df-convert');\n",
              "        buttonEl.style.display =\n",
              "          google.colab.kernel.accessAllowed ? 'block' : 'none';\n",
              "\n",
              "        async function convertToInteractive(key) {\n",
              "          const element = document.querySelector('#df-eabb2c4a-0081-45c4-912b-31f49c2e8851');\n",
              "          const dataTable =\n",
              "            await google.colab.kernel.invokeFunction('convertToInteractive',\n",
              "                                                     [key], {});\n",
              "          if (!dataTable) return;\n",
              "\n",
              "          const docLinkHtml = 'Like what you see? Visit the ' +\n",
              "            '<a target=\"_blank\" href=https://colab.research.google.com/notebooks/data_table.ipynb>data table notebook</a>'\n",
              "            + ' to learn more about interactive tables.';\n",
              "          element.innerHTML = '';\n",
              "          dataTable['output_type'] = 'display_data';\n",
              "          await google.colab.output.renderOutput(dataTable, element);\n",
              "          const docLink = document.createElement('div');\n",
              "          docLink.innerHTML = docLinkHtml;\n",
              "          element.appendChild(docLink);\n",
              "        }\n",
              "      </script>\n",
              "    </div>\n",
              "  </div>\n",
              "  "
            ],
            "text/plain": [
              "              id                                                url  \\\n",
              "0       63064638  https://en.wikipedia.org/wiki/Sexhow%20railway...   \n",
              "1         279621        https://en.wikipedia.org/wiki/Eti%C3%A4inen   \n",
              "2         287229  https://en.wikipedia.org/wiki/Inverse%20functi...   \n",
              "3       26712375  https://en.wikipedia.org/wiki/Stepping%20on%20...   \n",
              "4       38894426        https://en.wikipedia.org/wiki/Rob%20Bradley   \n",
              "...          ...                                                ...   \n",
              "149995  44173767        https://en.wikipedia.org/wiki/Randy%20Borum   \n",
              "149996  33564134  https://en.wikipedia.org/wiki/Sa%27och%20language   \n",
              "149997   4219548    https://en.wikipedia.org/wiki/Philip%20Hanawalt   \n",
              "149998   2625970  https://en.wikipedia.org/wiki/Vossius%20Gymnasium   \n",
              "149999  32345102    https://en.wikipedia.org/wiki/Simone%20Stratigo   \n",
              "\n",
              "                           title  \\\n",
              "0         Sexhow railway station   \n",
              "1                       Etiäinen   \n",
              "2       Inverse function theorem   \n",
              "3              Stepping on Roses   \n",
              "4                    Rob Bradley   \n",
              "...                          ...   \n",
              "149995               Randy Borum   \n",
              "149996           Sa'och language   \n",
              "149997           Philip Hanawalt   \n",
              "149998         Vossius Gymnasium   \n",
              "149999           Simone Stratigo   \n",
              "\n",
              "                                               wiki_intro  \\\n",
              "0       Sexhow railway station was a railway station b...   \n",
              "1       In Finnish folklore, all places and things, an...   \n",
              "2       In mathematics, specifically differential calc...   \n",
              "3       is a Japanese shōjo manga series written and i...   \n",
              "4       Robert Milner \"Rob\" Bradley, Jr. (born August ...   \n",
              "...                                                   ...   \n",
              "149995  Randy Borum is a Professor and Coordinator of ...   \n",
              "149996  Sa'och (, also, \"Sauch\") is an endangered, nea...   \n",
              "149997  Philip C. Hanawalt (born 1931) is an American ...   \n",
              "149998  Vossius Gymnasium is a public gymnasium in Ams...   \n",
              "149999  Simone Stratigo (, Symeon Filippos Stratigos; ...   \n",
              "\n",
              "                                          generated_intro  title_len  \\\n",
              "0       Sexhow railway station was a railway station l...          3   \n",
              "1       In Finnish folklore, all places and things, an...          1   \n",
              "2       In mathematics, specifically differential calc...          3   \n",
              "3       is a Japanese shōjo manga series written and i...          3   \n",
              "4       Robert Milner \"Rob\" Bradley, Jr. (born August ...          2   \n",
              "...                                                   ...        ...   \n",
              "149995  Randy Borum is a Professor and Coordinator of ...          2   \n",
              "149996  Sa'och (, also, \"Sauch\") is an endangered, nuc...          2   \n",
              "149997  Philip C. Hanawalt (born 1931) is an American ...          2   \n",
              "149998  Vossius Gymnasium is a public gymnasium in the...          2   \n",
              "149999  Simone Stratigo (, Symeon Filippos Stratigos; ...          2   \n",
              "\n",
              "        wiki_intro_len  generated_intro_len  \\\n",
              "0                  174                   78   \n",
              "1                  187                   80   \n",
              "2                  170                   59   \n",
              "3                  335                  121   \n",
              "4                  170                  136   \n",
              "...                ...                  ...   \n",
              "149995             185                   71   \n",
              "149996             175                  134   \n",
              "149997             166                  191   \n",
              "149998             168                  108   \n",
              "149999             153                  132   \n",
              "\n",
              "                                                   prompt  \\\n",
              "0       200 word wikipedia style introduction on 'Sexh...   \n",
              "1       200 word wikipedia style introduction on 'Etiä...   \n",
              "2       200 word wikipedia style introduction on 'Inve...   \n",
              "3       200 word wikipedia style introduction on 'Step...   \n",
              "4       200 word wikipedia style introduction on 'Rob ...   \n",
              "...                                                   ...   \n",
              "149995  200 word wikipedia style introduction on 'Rand...   \n",
              "149996  200 word wikipedia style introduction on 'Sa'o...   \n",
              "149997  200 word wikipedia style introduction on 'Phil...   \n",
              "149998  200 word wikipedia style introduction on 'Voss...   \n",
              "149999  200 word wikipedia style introduction on 'Simo...   \n",
              "\n",
              "                                           generated_text  prompt_tokens  \\\n",
              "0        located in the town of Sexhow, on the Cumbria...             25   \n",
              "1        animate or inanimate, have a spirit or \"etiäi...             26   \n",
              "2        function theorem states that for every real-v...             26   \n",
              "3        and illustrated by Maki Fujii. The series fol...             26   \n",
              "4        29, 1973) is an American former professional ...             28   \n",
              "...                                                   ...            ...   \n",
              "149995   of the Master of Fine Arts Program in Creativ...             25   \n",
              "149996   nuclear-speaking, isolate language of the Ath...             33   \n",
              "149997   American graphic artist and illustrator. He i...             30   \n",
              "149998   the town of Vossius, Netherlands. It is named...             32   \n",
              "149999   born 1 July 1979) is a Greek professional foo...             33   \n",
              "\n",
              "        generated_text_tokens  \n",
              "0                          88  \n",
              "1                         101  \n",
              "2                          65  \n",
              "3                         150  \n",
              "4                         162  \n",
              "...                       ...  \n",
              "149995                     92  \n",
              "149996                    184  \n",
              "149997                    272  \n",
              "149998                    147  \n",
              "149999                    173  \n",
              "\n",
              "[150000 rows x 12 columns]"
            ]
          },
          "execution_count": 82,
          "metadata": {},
          "output_type": "execute_result"
        }
      ],
      "source": [
        "import pandas as pd\n",
        "df = pd.read_csv(\"drive/My Drive/GPT-wiki-intro.csv\")\n",
        "df"
      ]
    },
    {
      "cell_type": "markdown",
      "metadata": {
        "id": "837-aZd6k7xz"
      },
      "source": [
        "# **Data Preprocessing**\n"
      ]
    },
    {
      "cell_type": "code",
      "execution_count": null,
      "metadata": {
        "colab": {
          "base_uri": "https://localhost:8080/"
        },
        "id": "Qhic3NTtlDL8",
        "outputId": "89cab5fa-4e81-410f-d192-4abaf0ddacbe"
      },
      "outputs": [
        {
          "name": "stdout",
          "output_type": "stream",
          "text": [
            "              id                     title  \\\n",
            "0       63064638    Sexhow railway station   \n",
            "1         279621                  Etiäinen   \n",
            "2         287229  Inverse function theorem   \n",
            "3       26712375         Stepping on Roses   \n",
            "4       38894426               Rob Bradley   \n",
            "...          ...                       ...   \n",
            "149995  44173767               Randy Borum   \n",
            "149996  33564134           Sa'och language   \n",
            "149997   4219548           Philip Hanawalt   \n",
            "149998   2625970         Vossius Gymnasium   \n",
            "149999  32345102           Simone Stratigo   \n",
            "\n",
            "                                               wiki_intro  \\\n",
            "0       Sexhow railway station was a railway station b...   \n",
            "1       In Finnish folklore, all places and things, an...   \n",
            "2       In mathematics, specifically differential calc...   \n",
            "3       is a Japanese shōjo manga series written and i...   \n",
            "4       Robert Milner \"Rob\" Bradley, Jr. (born August ...   \n",
            "...                                                   ...   \n",
            "149995  Randy Borum is a Professor and Coordinator of ...   \n",
            "149996  Sa'och (, also, \"Sauch\") is an endangered, nea...   \n",
            "149997  Philip C. Hanawalt (born 1931) is an American ...   \n",
            "149998  Vossius Gymnasium is a public gymnasium in Ams...   \n",
            "149999  Simone Stratigo (, Symeon Filippos Stratigos; ...   \n",
            "\n",
            "                                          generated_intro  \n",
            "0       Sexhow railway station was a railway station l...  \n",
            "1       In Finnish folklore, all places and things, an...  \n",
            "2       In mathematics, specifically differential calc...  \n",
            "3       is a Japanese shōjo manga series written and i...  \n",
            "4       Robert Milner \"Rob\" Bradley, Jr. (born August ...  \n",
            "...                                                   ...  \n",
            "149995  Randy Borum is a Professor and Coordinator of ...  \n",
            "149996  Sa'och (, also, \"Sauch\") is an endangered, nuc...  \n",
            "149997  Philip C. Hanawalt (born 1931) is an American ...  \n",
            "149998  Vossius Gymnasium is a public gymnasium in the...  \n",
            "149999  Simone Stratigo (, Symeon Filippos Stratigos; ...  \n",
            "\n",
            "[150000 rows x 4 columns]\n"
          ]
        }
      ],
      "source": [
        "df.drop(['url','title_len','wiki_intro_len','generated_intro_len','prompt','generated_text','prompt_tokens','generated_text_tokens'],axis=1,inplace=True)\n",
        "print(df)"
      ]
    },
    {
      "cell_type": "markdown",
      "metadata": {
        "id": "T-YIE4jjlG9o"
      },
      "source": [
        "## **Splitting the single dataframe into human generated and ai generated text,  adding the 'result' column**"
      ]
    },
    {
      "cell_type": "code",
      "execution_count": null,
      "metadata": {
        "colab": {
          "base_uri": "https://localhost:8080/"
        },
        "id": "G3Qv3WtslMz-",
        "outputId": "9892d4ee-b068-4258-f8f6-04f7d881dd6a"
      },
      "outputs": [
        {
          "name": "stdout",
          "output_type": "stream",
          "text": [
            "             id                     title  \\\n",
            "0      63064638    Sexhow railway station   \n",
            "1        279621                  Etiäinen   \n",
            "2        287229  Inverse function theorem   \n",
            "3      26712375         Stepping on Roses   \n",
            "4      38894426               Rob Bradley   \n",
            "...         ...                       ...   \n",
            "49995   1119629            Word of wisdom   \n",
            "49996   4096346                 Ski Beatz   \n",
            "49997   1526322            Crispian Mills   \n",
            "49998   4592607               Russell Ash   \n",
            "49999  42161771  Afterglow Maverick Sabre   \n",
            "\n",
            "                                                    text         result  \n",
            "0      Sexhow railway station was a railway station b...  Human Written  \n",
            "1      In Finnish folklore, all places and things, an...  Human Written  \n",
            "2      In mathematics, specifically differential calc...  Human Written  \n",
            "3      is a Japanese shōjo manga series written and i...  Human Written  \n",
            "4      Robert Milner \"Rob\" Bradley, Jr. (born August ...  Human Written  \n",
            "...                                                  ...            ...  \n",
            "49995  In Christianity, the word of wisdom is a spiri...  Human Written  \n",
            "49996  David Anthony Willis, known professionally as ...  Human Written  \n",
            "49997  Crispian Mills (born 18 January 1973 as Crispi...  Human Written  \n",
            "49998  Russell Ash (18 June 1946 – 21 June 2010) was ...  Human Written  \n",
            "49999  Ch./Am. Ch. Afterglow Maverick Sabre (born 4 S...  Human Written  \n",
            "\n",
            "[50000 rows x 4 columns]\n"
          ]
        }
      ],
      "source": [
        "dfh=df.copy()\n",
        "dfh.drop(['generated_intro'],axis=1,inplace=True)\n",
        "dfh=dfh.head(50000)\n",
        "dfh.rename(columns = {'wiki_intro':'text'}, inplace = True)\n",
        "result=[]\n",
        "for i in range(50000):\n",
        "  result.append(\"Human Written\")\n",
        "dfh['result']=result\n",
        "print(dfh)"
      ]
    },
    {
      "cell_type": "code",
      "execution_count": null,
      "metadata": {
        "colab": {
          "base_uri": "https://localhost:8080/"
        },
        "id": "nsgIlXkZlS3t",
        "outputId": "773baec0-2223-42b9-e78a-6b26c653de0c"
      },
      "outputs": [
        {
          "name": "stdout",
          "output_type": "stream",
          "text": [
            "             id                     title  \\\n",
            "0      63064638    Sexhow railway station   \n",
            "1        279621                  Etiäinen   \n",
            "2        287229  Inverse function theorem   \n",
            "3      26712375         Stepping on Roses   \n",
            "4      38894426               Rob Bradley   \n",
            "...         ...                       ...   \n",
            "49995   1119629            Word of wisdom   \n",
            "49996   4096346                 Ski Beatz   \n",
            "49997   1526322            Crispian Mills   \n",
            "49998   4592607               Russell Ash   \n",
            "49999  42161771  Afterglow Maverick Sabre   \n",
            "\n",
            "                                                    text      result  \n",
            "0      Sexhow railway station was a railway station l...  AI Written  \n",
            "1      In Finnish folklore, all places and things, an...  AI Written  \n",
            "2      In mathematics, specifically differential calc...  AI Written  \n",
            "3      is a Japanese shōjo manga series written and i...  AI Written  \n",
            "4      Robert Milner \"Rob\" Bradley, Jr. (born August ...  AI Written  \n",
            "...                                                  ...         ...  \n",
            "49995  In Christianity, the word of wisdom is a colle...  AI Written  \n",
            "49996  David Anthony Willis, known professionally as ...  AI Written  \n",
            "49997  Crispian Mills (born 18 January 1973 as Crispi...  AI Written  \n",
            "49998  Russell Ash (18 June 1946 – 21 December 2009) ...  AI Written  \n",
            "49999  Ch./Am. Ch. Afterglow Maverick Sabre (born 4/1...  AI Written  \n",
            "\n",
            "[50000 rows x 4 columns]\n"
          ]
        },
        {
          "name": "stderr",
          "output_type": "stream",
          "text": [
            "<ipython-input-85-0ca0301a1217>:4: SettingWithCopyWarning: \n",
            "A value is trying to be set on a copy of a slice from a DataFrame\n",
            "\n",
            "See the caveats in the documentation: https://pandas.pydata.org/pandas-docs/stable/user_guide/indexing.html#returning-a-view-versus-a-copy\n",
            "  dfg.rename(columns = {'generated_intro':'text'}, inplace = True)\n",
            "<ipython-input-85-0ca0301a1217>:8: SettingWithCopyWarning: \n",
            "A value is trying to be set on a copy of a slice from a DataFrame.\n",
            "Try using .loc[row_indexer,col_indexer] = value instead\n",
            "\n",
            "See the caveats in the documentation: https://pandas.pydata.org/pandas-docs/stable/user_guide/indexing.html#returning-a-view-versus-a-copy\n",
            "  dfg['result']=result\n"
          ]
        }
      ],
      "source": [
        "dfg=df.copy()\n",
        "dfg.drop(['wiki_intro'],axis=1,inplace=True)\n",
        "dfg=dfg.head(50000)\n",
        "dfg.rename(columns = {'generated_intro':'text'}, inplace = True)\n",
        "result=[]\n",
        "for i in range(50000):\n",
        "  result.append(\"AI Written\")\n",
        "dfg['result']=result\n",
        "print(dfg)"
      ]
    },
    {
      "cell_type": "markdown",
      "metadata": {
        "id": "7slr80W-laMf"
      },
      "source": [
        "## **Combining the two dataframes into a single dataset**"
      ]
    },
    {
      "cell_type": "code",
      "execution_count": null,
      "metadata": {
        "colab": {
          "base_uri": "https://localhost:8080/"
        },
        "id": "MSrVzg5aljkb",
        "outputId": "ded71dbc-3119-4ca1-a89b-971bb003328f"
      },
      "outputs": [
        {
          "data": {
            "text/plain": [
              "(100000, 4)"
            ]
          },
          "execution_count": 86,
          "metadata": {},
          "output_type": "execute_result"
        }
      ],
      "source": [
        "ds=pd.concat([dfh,dfg])\n",
        "ds.shape"
      ]
    },
    {
      "cell_type": "code",
      "execution_count": null,
      "metadata": {
        "colab": {
          "base_uri": "https://localhost:8080/"
        },
        "id": "afgvuwI9lmUB",
        "outputId": "dbf162cf-b859-494d-bdc5-0e5bbe262c08"
      },
      "outputs": [
        {
          "name": "stdout",
          "output_type": "stream",
          "text": [
            "             id                     title  \\\n",
            "0      63064638    Sexhow railway station   \n",
            "1        279621                  Etiäinen   \n",
            "2        287229  Inverse function theorem   \n",
            "3      26712375         Stepping on Roses   \n",
            "4      38894426               Rob Bradley   \n",
            "...         ...                       ...   \n",
            "49995   1119629            Word of wisdom   \n",
            "49996   4096346                 Ski Beatz   \n",
            "49997   1526322            Crispian Mills   \n",
            "49998   4592607               Russell Ash   \n",
            "49999  42161771  Afterglow Maverick Sabre   \n",
            "\n",
            "                                                    text         result  \n",
            "0      Sexhow railway station was a railway station b...  Human Written  \n",
            "1      In Finnish folklore, all places and things, an...  Human Written  \n",
            "2      In mathematics, specifically differential calc...  Human Written  \n",
            "3      is a Japanese shōjo manga series written and i...  Human Written  \n",
            "4      Robert Milner \"Rob\" Bradley, Jr. (born August ...  Human Written  \n",
            "...                                                  ...            ...  \n",
            "49995  In Christianity, the word of wisdom is a colle...     AI Written  \n",
            "49996  David Anthony Willis, known professionally as ...     AI Written  \n",
            "49997  Crispian Mills (born 18 January 1973 as Crispi...     AI Written  \n",
            "49998  Russell Ash (18 June 1946 – 21 December 2009) ...     AI Written  \n",
            "49999  Ch./Am. Ch. Afterglow Maverick Sabre (born 4/1...     AI Written  \n",
            "\n",
            "[100000 rows x 4 columns]\n"
          ]
        }
      ],
      "source": [
        "print(ds)"
      ]
    },
    {
      "cell_type": "markdown",
      "metadata": {
        "id": "emjFBmlmlx9U"
      },
      "source": [
        "# **Data Preparation**"
      ]
    },
    {
      "cell_type": "markdown",
      "metadata": {
        "id": "3uY3jfjil06h"
      },
      "source": [
        "## **Data Seperation as x and y**"
      ]
    },
    {
      "cell_type": "code",
      "execution_count": null,
      "metadata": {
        "colab": {
          "base_uri": "https://localhost:8080/"
        },
        "id": "i0bATVZul6Z-",
        "outputId": "a764158a-1c38-4fef-8a9e-71f0abc8257c"
      },
      "outputs": [
        {
          "name": "stdout",
          "output_type": "stream",
          "text": [
            "0        Human Written\n",
            "1        Human Written\n",
            "2        Human Written\n",
            "3        Human Written\n",
            "4        Human Written\n",
            "             ...      \n",
            "49995       AI Written\n",
            "49996       AI Written\n",
            "49997       AI Written\n",
            "49998       AI Written\n",
            "49999       AI Written\n",
            "Name: result, Length: 100000, dtype: object\n"
          ]
        }
      ],
      "source": [
        "y=ds['result']\n",
        "print(y)"
      ]
    },
    {
      "cell_type": "code",
      "execution_count": null,
      "metadata": {
        "colab": {
          "base_uri": "https://localhost:8080/"
        },
        "id": "7tuDKoQCl9mc",
        "outputId": "36a8673b-e4f3-4e39-eece-49f0ef725da1"
      },
      "outputs": [
        {
          "name": "stdout",
          "output_type": "stream",
          "text": [
            "             id                     title  \\\n",
            "0      63064638    Sexhow railway station   \n",
            "1        279621                  Etiäinen   \n",
            "2        287229  Inverse function theorem   \n",
            "3      26712375         Stepping on Roses   \n",
            "4      38894426               Rob Bradley   \n",
            "...         ...                       ...   \n",
            "49995   1119629            Word of wisdom   \n",
            "49996   4096346                 Ski Beatz   \n",
            "49997   1526322            Crispian Mills   \n",
            "49998   4592607               Russell Ash   \n",
            "49999  42161771  Afterglow Maverick Sabre   \n",
            "\n",
            "                                                    text  \n",
            "0      Sexhow railway station was a railway station b...  \n",
            "1      In Finnish folklore, all places and things, an...  \n",
            "2      In mathematics, specifically differential calc...  \n",
            "3      is a Japanese shōjo manga series written and i...  \n",
            "4      Robert Milner \"Rob\" Bradley, Jr. (born August ...  \n",
            "...                                                  ...  \n",
            "49995  In Christianity, the word of wisdom is a colle...  \n",
            "49996  David Anthony Willis, known professionally as ...  \n",
            "49997  Crispian Mills (born 18 January 1973 as Crispi...  \n",
            "49998  Russell Ash (18 June 1946 – 21 December 2009) ...  \n",
            "49999  Ch./Am. Ch. Afterglow Maverick Sabre (born 4/1...  \n",
            "\n",
            "[100000 rows x 3 columns]\n"
          ]
        }
      ],
      "source": [
        "x=ds.drop(['result'], axis=1)\n",
        "print(x)"
      ]
    },
    {
      "cell_type": "markdown",
      "metadata": {
        "id": "FcbKSdLqmBT-"
      },
      "source": [
        "## **Data Splitting**"
      ]
    },
    {
      "cell_type": "code",
      "execution_count": null,
      "metadata": {
        "id": "HRcANbwmmE3J"
      },
      "outputs": [],
      "source": [
        "from sklearn.model_selection import train_test_split\n",
        "X_train, X_test, y_train, y_test = train_test_split(ds['text'], ds['result'],test_size=0.2, random_state= 42)"
      ]
    },
    {
      "cell_type": "code",
      "execution_count": null,
      "metadata": {
        "colab": {
          "base_uri": "https://localhost:8080/"
        },
        "id": "2p7m8ALemHpg",
        "outputId": "3a3418fa-92bd-4e80-bc2a-a67236ab1da5"
      },
      "outputs": [
        {
          "data": {
            "text/plain": [
              "25220    Sara Niemietz  (born June 7, 1992) is an Ameri...\n",
              "48955    Juneau Mountain Rescue (JMR) is a mountain sea...\n",
              "44966    Erich Wolf Segal (June 16, 1937January 17, 201...\n",
              "13568    Green jobs or green-collared jobs  (sustainabi...\n",
              "42727    Nicolas Jarry (1620 – 1670) was a French calli...\n",
              "                               ...                        \n",
              "6265     Mount Moffit is a peak in the Alaska Range in ...\n",
              "4886     The Łódź Jewish Cemetery, also known as the Łó...\n",
              "26820    Herbert Blaché (5 October 1882 – 23 October 19...\n",
              "860      The Flat Tops is a mountain range located in C...\n",
              "15795    Mechanization is the process of changing from ...\n",
              "Name: text, Length: 80000, dtype: object"
            ]
          },
          "execution_count": 91,
          "metadata": {},
          "output_type": "execute_result"
        }
      ],
      "source": [
        "x_train"
      ]
    },
    {
      "cell_type": "code",
      "execution_count": null,
      "metadata": {
        "colab": {
          "base_uri": "https://localhost:8080/"
        },
        "id": "b-Whd8iGmJ0E",
        "outputId": "4deac8e8-4254-4182-83be-f5a0099ad74a"
      },
      "outputs": [
        {
          "data": {
            "text/plain": [
              "25721    The tapping rate is a psychological test used ...\n",
              "30184    Explorer 55, also called as AE-E (Atmospheric ...\n",
              "19864    John Andrews Murrell (1806 – November 21, 1844...\n",
              "26699    William Burke Belknap the younger (1885–1965) ...\n",
              "42991    A shallow donor refers to a donor who donates ...\n",
              "                               ...                        \n",
              "32595    Electric Angels was an American, Los Angeles-b...\n",
              "29313    The Cordeaux Dam is a heritage-listed dam in C...\n",
              "37862    The Nemean lion (;  Neméos léōn; ) was a vicio...\n",
              "3421     Jean-Marc Coicaud is a French and American scu...\n",
              "42410    Roland Emmerich (; born 10 November 1955) is a...\n",
              "Name: text, Length: 20000, dtype: object"
            ]
          },
          "execution_count": 92,
          "metadata": {},
          "output_type": "execute_result"
        }
      ],
      "source": [
        "x_test"
      ]
    },
    {
      "cell_type": "code",
      "execution_count": null,
      "metadata": {
        "colab": {
          "base_uri": "https://localhost:8080/"
        },
        "id": "kP1VgdRvmMCZ",
        "outputId": "cead2a7b-d129-419d-f65e-ee34bcb3694f"
      },
      "outputs": [
        {
          "data": {
            "text/plain": [
              "25220       AI Written\n",
              "48955    Human Written\n",
              "44966    Human Written\n",
              "13568    Human Written\n",
              "42727       AI Written\n",
              "             ...      \n",
              "6265     Human Written\n",
              "4886        AI Written\n",
              "26820       AI Written\n",
              "860      Human Written\n",
              "15795    Human Written\n",
              "Name: result, Length: 80000, dtype: object"
            ]
          },
          "execution_count": 93,
          "metadata": {},
          "output_type": "execute_result"
        }
      ],
      "source": [
        "y_train"
      ]
    },
    {
      "cell_type": "code",
      "execution_count": null,
      "metadata": {
        "colab": {
          "base_uri": "https://localhost:8080/"
        },
        "id": "LODDi9tEmPgX",
        "outputId": "916f63fb-c346-4f85-c253-f1683f52a76d"
      },
      "outputs": [
        {
          "data": {
            "text/plain": [
              "25721       AI Written\n",
              "30184       AI Written\n",
              "19864    Human Written\n",
              "26699       AI Written\n",
              "42991       AI Written\n",
              "             ...      \n",
              "32595    Human Written\n",
              "29313    Human Written\n",
              "37862    Human Written\n",
              "3421        AI Written\n",
              "42410    Human Written\n",
              "Name: result, Length: 20000, dtype: object"
            ]
          },
          "execution_count": 94,
          "metadata": {},
          "output_type": "execute_result"
        }
      ],
      "source": [
        "y_test"
      ]
    },
    {
      "cell_type": "markdown",
      "metadata": {
        "id": "VkFWfu_QmS3u"
      },
      "source": [
        "# **Model Building**"
      ]
    },
    {
      "cell_type": "markdown",
      "metadata": {
        "id": "c9HabXSwmXp4"
      },
      "source": [
        "## **Random Forest Model**"
      ]
    },
    {
      "cell_type": "markdown",
      "metadata": {
        "id": "ZWtRSpBDn3rP"
      },
      "source": [
        "### **Importing necessary libraries**"
      ]
    },
    {
      "cell_type": "code",
      "execution_count": null,
      "metadata": {
        "id": "dFQ-MFnbn4c-"
      },
      "outputs": [],
      "source": [
        "from sklearn.feature_extraction.text import TfidfVectorizer\n",
        "from sklearn.ensemble import RandomForestClassifier\n",
        "from sklearn.metrics import accuracy_score, precision_score, recall_score"
      ]
    },
    {
      "cell_type": "markdown",
      "metadata": {
        "id": "6L3fNOOUoMoT"
      },
      "source": [
        "### **Extracting features using TF-IDF**"
      ]
    },
    {
      "cell_type": "code",
      "execution_count": null,
      "metadata": {
        "id": "YSEC5SdVoXIS"
      },
      "outputs": [],
      "source": [
        "tfidf = TfidfVectorizer()\n",
        "tfidf.fit(X_train)\n",
        "X_train = tfidf.fit_transform(X_train)\n",
        "X_test = tfidf.transform(X_test)"
      ]
    },
    {
      "cell_type": "markdown",
      "metadata": {
        "id": "sS7aIuYOois3"
      },
      "source": [
        "### **Model Creation**"
      ]
    },
    {
      "cell_type": "code",
      "execution_count": null,
      "metadata": {
        "id": "Ci-9SxkAo07-"
      },
      "outputs": [],
      "source": [
        "rf_model = RandomForestClassifier(n_estimators=100, random_state=42)"
      ]
    },
    {
      "cell_type": "markdown",
      "metadata": {
        "id": "Se3FNJlYo3wZ"
      },
      "source": [
        "### **Model training**"
      ]
    },
    {
      "cell_type": "code",
      "execution_count": null,
      "metadata": {
        "colab": {
          "background_save": true
        },
        "id": "HPwL5jUfpAR9",
        "outputId": "734746a0-5b75-4347-c4f5-5cb7cd8b8dbd"
      },
      "outputs": [
        {
          "data": {
            "text/html": [
              "<style>#sk-container-id-3 {color: black;background-color: white;}#sk-container-id-3 pre{padding: 0;}#sk-container-id-3 div.sk-toggleable {background-color: white;}#sk-container-id-3 label.sk-toggleable__label {cursor: pointer;display: block;width: 100%;margin-bottom: 0;padding: 0.3em;box-sizing: border-box;text-align: center;}#sk-container-id-3 label.sk-toggleable__label-arrow:before {content: \"▸\";float: left;margin-right: 0.25em;color: #696969;}#sk-container-id-3 label.sk-toggleable__label-arrow:hover:before {color: black;}#sk-container-id-3 div.sk-estimator:hover label.sk-toggleable__label-arrow:before {color: black;}#sk-container-id-3 div.sk-toggleable__content {max-height: 0;max-width: 0;overflow: hidden;text-align: left;background-color: #f0f8ff;}#sk-container-id-3 div.sk-toggleable__content pre {margin: 0.2em;color: black;border-radius: 0.25em;background-color: #f0f8ff;}#sk-container-id-3 input.sk-toggleable__control:checked~div.sk-toggleable__content {max-height: 200px;max-width: 100%;overflow: auto;}#sk-container-id-3 input.sk-toggleable__control:checked~label.sk-toggleable__label-arrow:before {content: \"▾\";}#sk-container-id-3 div.sk-estimator input.sk-toggleable__control:checked~label.sk-toggleable__label {background-color: #d4ebff;}#sk-container-id-3 div.sk-label input.sk-toggleable__control:checked~label.sk-toggleable__label {background-color: #d4ebff;}#sk-container-id-3 input.sk-hidden--visually {border: 0;clip: rect(1px 1px 1px 1px);clip: rect(1px, 1px, 1px, 1px);height: 1px;margin: -1px;overflow: hidden;padding: 0;position: absolute;width: 1px;}#sk-container-id-3 div.sk-estimator {font-family: monospace;background-color: #f0f8ff;border: 1px dotted black;border-radius: 0.25em;box-sizing: border-box;margin-bottom: 0.5em;}#sk-container-id-3 div.sk-estimator:hover {background-color: #d4ebff;}#sk-container-id-3 div.sk-parallel-item::after {content: \"\";width: 100%;border-bottom: 1px solid gray;flex-grow: 1;}#sk-container-id-3 div.sk-label:hover label.sk-toggleable__label {background-color: #d4ebff;}#sk-container-id-3 div.sk-serial::before {content: \"\";position: absolute;border-left: 1px solid gray;box-sizing: border-box;top: 0;bottom: 0;left: 50%;z-index: 0;}#sk-container-id-3 div.sk-serial {display: flex;flex-direction: column;align-items: center;background-color: white;padding-right: 0.2em;padding-left: 0.2em;position: relative;}#sk-container-id-3 div.sk-item {position: relative;z-index: 1;}#sk-container-id-3 div.sk-parallel {display: flex;align-items: stretch;justify-content: center;background-color: white;position: relative;}#sk-container-id-3 div.sk-item::before, #sk-container-id-3 div.sk-parallel-item::before {content: \"\";position: absolute;border-left: 1px solid gray;box-sizing: border-box;top: 0;bottom: 0;left: 50%;z-index: -1;}#sk-container-id-3 div.sk-parallel-item {display: flex;flex-direction: column;z-index: 1;position: relative;background-color: white;}#sk-container-id-3 div.sk-parallel-item:first-child::after {align-self: flex-end;width: 50%;}#sk-container-id-3 div.sk-parallel-item:last-child::after {align-self: flex-start;width: 50%;}#sk-container-id-3 div.sk-parallel-item:only-child::after {width: 0;}#sk-container-id-3 div.sk-dashed-wrapped {border: 1px dashed gray;margin: 0 0.4em 0.5em 0.4em;box-sizing: border-box;padding-bottom: 0.4em;background-color: white;}#sk-container-id-3 div.sk-label label {font-family: monospace;font-weight: bold;display: inline-block;line-height: 1.2em;}#sk-container-id-3 div.sk-label-container {text-align: center;}#sk-container-id-3 div.sk-container {/* jupyter's `normalize.less` sets `[hidden] { display: none; }` but bootstrap.min.css set `[hidden] { display: none !important; }` so we also need the `!important` here to be able to override the default hidden behavior on the sphinx rendered scikit-learn.org. See: https://github.com/scikit-learn/scikit-learn/issues/21755 */display: inline-block !important;position: relative;}#sk-container-id-3 div.sk-text-repr-fallback {display: none;}</style><div id=\"sk-container-id-3\" class=\"sk-top-container\"><div class=\"sk-text-repr-fallback\"><pre>RandomForestClassifier(random_state=42)</pre><b>In a Jupyter environment, please rerun this cell to show the HTML representation or trust the notebook. <br />On GitHub, the HTML representation is unable to render, please try loading this page with nbviewer.org.</b></div><div class=\"sk-container\" hidden><div class=\"sk-item\"><div class=\"sk-estimator sk-toggleable\"><input class=\"sk-toggleable__control sk-hidden--visually\" id=\"sk-estimator-id-3\" type=\"checkbox\" checked><label for=\"sk-estimator-id-3\" class=\"sk-toggleable__label sk-toggleable__label-arrow\">RandomForestClassifier</label><div class=\"sk-toggleable__content\"><pre>RandomForestClassifier(random_state=42)</pre></div></div></div></div></div>"
            ],
            "text/plain": [
              "RandomForestClassifier(random_state=42)"
            ]
          },
          "execution_count": 98,
          "metadata": {},
          "output_type": "execute_result"
        }
      ],
      "source": [
        "rf_model.fit(X_train, y_train)"
      ]
    },
    {
      "cell_type": "markdown",
      "metadata": {
        "id": "LgEWDBGEpHtx"
      },
      "source": [
        "# **Model Evaluation**"
      ]
    },
    {
      "cell_type": "code",
      "execution_count": null,
      "metadata": {
        "id": "dEOKnyk3pOWt"
      },
      "outputs": [],
      "source": [
        "y_pred = rf_model.predict(X_test)\n",
        "accuracy = accuracy_score(y_test, y_pred)\n",
        "precision = precision_score(y_test, y_pred, average=\"macro\")\n",
        "recall = recall_score(y_test, y_pred, average=\"macro\")"
      ]
    },
    {
      "cell_type": "code",
      "execution_count": null,
      "metadata": {
        "colab": {
          "base_uri": "https://localhost:8080/"
        },
        "id": "aXaVcc8ipTjb",
        "outputId": "b83ac9f6-de12-4466-fdb0-8d46a4430c5d"
      },
      "outputs": [
        {
          "name": "stdout",
          "output_type": "stream",
          "text": [
            "Accuracy: 0.89835\n",
            "Precision: 0.8987360870492084\n",
            "Recall: 0.8984056304689733\n"
          ]
        }
      ],
      "source": [
        "\n",
        "print(f\"Accuracy: {accuracy}\")\n",
        "print(f\"Precision: {precision}\")\n",
        "print(f\"Recall: {recall}\")"
      ]
    },
    {
      "cell_type": "markdown",
      "metadata": {
        "id": "BgpNbiItyxyJ"
      },
      "source": [
        "# **Saving trained model to disk**"
      ]
    },
    {
      "cell_type": "code",
      "execution_count": 104,
      "metadata": {
        "id": "O3jzh2gBy1Jf"
      },
      "outputs": [],
      "source": [
        "import pickle\n",
        "# save the model as a pickle file\n",
        "with open('rf_model.pkl', 'wb') as f:\n",
        "    pickle.dump(rf_model, f)\n"
      ]
    },
    {
      "cell_type": "code",
      "execution_count": 105,
      "metadata": {
        "id": "G1qUqKIRzVqm",
        "colab": {
          "base_uri": "https://localhost:8080/",
          "height": 17
        },
        "outputId": "ba7baabf-5a9c-4d40-85f0-cd149f38cfd3"
      },
      "outputs": [
        {
          "output_type": "display_data",
          "data": {
            "text/plain": [
              "<IPython.core.display.Javascript object>"
            ],
            "application/javascript": [
              "\n",
              "    async function download(id, filename, size) {\n",
              "      if (!google.colab.kernel.accessAllowed) {\n",
              "        return;\n",
              "      }\n",
              "      const div = document.createElement('div');\n",
              "      const label = document.createElement('label');\n",
              "      label.textContent = `Downloading \"${filename}\": `;\n",
              "      div.appendChild(label);\n",
              "      const progress = document.createElement('progress');\n",
              "      progress.max = size;\n",
              "      div.appendChild(progress);\n",
              "      document.body.appendChild(div);\n",
              "\n",
              "      const buffers = [];\n",
              "      let downloaded = 0;\n",
              "\n",
              "      const channel = await google.colab.kernel.comms.open(id);\n",
              "      // Send a message to notify the kernel that we're ready.\n",
              "      channel.send({})\n",
              "\n",
              "      for await (const message of channel.messages) {\n",
              "        // Send a message to notify the kernel that we're ready.\n",
              "        channel.send({})\n",
              "        if (message.buffers) {\n",
              "          for (const buffer of message.buffers) {\n",
              "            buffers.push(buffer);\n",
              "            downloaded += buffer.byteLength;\n",
              "            progress.value = downloaded;\n",
              "          }\n",
              "        }\n",
              "      }\n",
              "      const blob = new Blob(buffers, {type: 'application/binary'});\n",
              "      const a = document.createElement('a');\n",
              "      a.href = window.URL.createObjectURL(blob);\n",
              "      a.download = filename;\n",
              "      div.appendChild(a);\n",
              "      a.click();\n",
              "      div.remove();\n",
              "    }\n",
              "  "
            ]
          },
          "metadata": {}
        },
        {
          "output_type": "display_data",
          "data": {
            "text/plain": [
              "<IPython.core.display.Javascript object>"
            ],
            "application/javascript": [
              "download(\"download_dc570493-ef4c-47ed-a6e2-92fa3c10e221\", \"rf_model.pkl\", 304407600)"
            ]
          },
          "metadata": {}
        }
      ],
      "source": [
        "from google.colab import files\n",
        "\n",
        "files.download('rf_model.pkl')"
      ]
    },
    {
      "cell_type": "markdown",
      "metadata": {
        "id": "kJTzQGans5CN"
      },
      "source": [
        "# **Testing the model with a random text**"
      ]
    },
    {
      "cell_type": "code",
      "execution_count": 100,
      "metadata": {
        "id": "5Jh_QBgis8TV"
      },
      "outputs": [],
      "source": [
        "# random_text = '''\n",
        "# This is the final step of dataset generation. At this step, we augment the anchor dataset with human written or GPT generated data. The most important part in this step is coming up with the prompt used for generating the response from GPT or question that will be answered by humans. For finalizing the prompt we can leverage OpenAI Playground to test out different prompts with different models, temperature, frequency penalty and presence penalty. To increase the diversity of the dataset, we can finalize n prompts and use them uniformly to get the responses. In case of human responses, we would want to finalize the question by giving different variations of the questions to small survey population and then checking the results to finalize the n questions. Once the prompts or the questions are finalized, we can use the OpenAI API to generate the GPT generated responses or use service such as Mechanical Turk to get the human written responses.\n",
        "\n",
        "# '''"
      ]
    },
    {
      "cell_type": "markdown",
      "metadata": {
        "id": "tzvHzUOntDgZ"
      },
      "source": [
        "### **Vectorising the text with the same TfidfVectorizer used to fit the training data**"
      ]
    },
    {
      "cell_type": "code",
      "execution_count": 101,
      "metadata": {
        "id": "FWmRsq9NtG4t"
      },
      "outputs": [],
      "source": [
        "# random_text_tfidf = tfidf.transform([random_text])"
      ]
    },
    {
      "cell_type": "markdown",
      "metadata": {
        "id": "n5j2s5a2tL6i"
      },
      "source": [
        "### **Using the trained Random Forest model to make predictions**"
      ]
    },
    {
      "cell_type": "code",
      "execution_count": 102,
      "metadata": {
        "id": "3758L1NstRjO"
      },
      "outputs": [],
      "source": [
        "# prediction = rf_model.predict(random_text_tfidf)\n",
        "# print(\"Prediction:\", prediction)"
      ]
    }
  ],
  "metadata": {
    "colab": {
      "toc_visible": true,
      "provenance": [],
      "authorship_tag": "ABX9TyN8hE3mx0sltImeyEGUmfuV",
      "include_colab_link": true
    },
    "kernelspec": {
      "display_name": "Python 3",
      "name": "python3"
    },
    "language_info": {
      "name": "python"
    }
  },
  "nbformat": 4,
  "nbformat_minor": 0
}